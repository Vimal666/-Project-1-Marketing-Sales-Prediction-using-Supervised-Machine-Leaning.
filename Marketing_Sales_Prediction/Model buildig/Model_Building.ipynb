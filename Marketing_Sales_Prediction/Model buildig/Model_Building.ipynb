{
  "nbformat": 4,
  "nbformat_minor": 0,
  "metadata": {
    "colab": {
      "name": "Model_Building",
      "provenance": [],
      "collapsed_sections": []
    },
    "kernelspec": {
      "display_name": "Python 3",
      "name": "python3"
    }
  },
  "cells": [
    {
      "cell_type": "markdown",
      "metadata": {
        "id": "Gz06vrZUo1jM"
      },
      "source": [
        "Importing the Necessary Libraries"
      ]
    },
    {
      "cell_type": "code",
      "metadata": {
        "id": "OWOG5rdddpGv"
      },
      "source": [
        "import pandas as pd\n",
        "import numpy as np\n",
        "from sklearn import preprocessing\n",
        "from sklearn.model_selection import train_test_split\n",
        "from sklearn.metrics import accuracy_score\n",
        "from sklearn.metrics import mean_squared_error\n",
        "from sklearn.preprocessing import StandardScaler\n",
        "from sklearn.metrics import r2_score\n",
        "from sklearn import metrics"
      ],
      "execution_count": 2,
      "outputs": []
    },
    {
      "cell_type": "markdown",
      "metadata": {
        "id": "en_3Wr3Sp6Rk"
      },
      "source": [
        "Loading the csv file"
      ]
    },
    {
      "cell_type": "code",
      "metadata": {
        "id": "m-LbXPlRmW6n",
        "colab": {
          "resources": {
            "http://localhost:8080/nbextensions/google.colab/files.js": {
              "data": "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",
              "ok": true,
              "headers": [
                [
                  "content-type",
                  "application/javascript"
                ]
              ],
              "status": 200,
              "status_text": ""
            }
          },
          "base_uri": "https://localhost:8080/",
          "height": 73
        },
        "outputId": "6a2edf7c-61ff-48c9-9c7d-3de8fb65934e"
      },
      "source": [
        "from google.colab import files \n",
        "uploaded = files.upload()"
      ],
      "execution_count": 8,
      "outputs": [
        {
          "output_type": "display_data",
          "data": {
            "text/html": [
              "\n",
              "     <input type=\"file\" id=\"files-cdcd9472-15ad-4e97-82fe-8ff8fdf4b4e8\" name=\"files[]\" multiple disabled\n",
              "        style=\"border:none\" />\n",
              "     <output id=\"result-cdcd9472-15ad-4e97-82fe-8ff8fdf4b4e8\">\n",
              "      Upload widget is only available when the cell has been executed in the\n",
              "      current browser session. Please rerun this cell to enable.\n",
              "      </output>\n",
              "      <script src=\"/nbextensions/google.colab/files.js\"></script> "
            ],
            "text/plain": [
              "<IPython.core.display.HTML object>"
            ]
          },
          "metadata": {
            "tags": []
          }
        },
        {
          "output_type": "stream",
          "text": [
            "Saving Final Dataset.xlsx - Sheet1.csv to Final Dataset.xlsx - Sheet1 (1).csv\n"
          ],
          "name": "stdout"
        }
      ]
    },
    {
      "cell_type": "markdown",
      "metadata": {
        "id": "96vEbqlfqK9B"
      },
      "source": [
        "Reading the csv file"
      ]
    },
    {
      "cell_type": "code",
      "metadata": {
        "id": "oNtH-CArmjg7"
      },
      "source": [
        "import io\n",
        "df=pd.read_csv(\"Final Dataset.xlsx - Sheet1.csv\")"
      ],
      "execution_count": 13,
      "outputs": []
    },
    {
      "cell_type": "markdown",
      "metadata": {
        "id": "BQovbSHaqDxF"
      },
      "source": [
        "Getting columns names inside my dataset"
      ]
    },
    {
      "cell_type": "code",
      "metadata": {
        "id": "j-oia5fImmu7",
        "colab": {
          "base_uri": "https://localhost:8080/"
        },
        "outputId": "e7794e06-781a-45da-f5d3-2889d984a9a3"
      },
      "source": [
        "df.columns"
      ],
      "execution_count": 14,
      "outputs": [
        {
          "output_type": "execute_result",
          "data": {
            "text/plain": [
              "Index(['PROD_CD', 'SLSMAN_CD', 'PLAN_MONTH', 'PLAN_YEAR', 'TARGET_IN_EA',\n",
              "       'ACH_IN_EA'],\n",
              "      dtype='object')"
            ]
          },
          "metadata": {
            "tags": []
          },
          "execution_count": 14
        }
      ]
    },
    {
      "cell_type": "markdown",
      "metadata": {
        "id": "vhnZGp0nqP-l"
      },
      "source": [
        "First 20 observation"
      ]
    },
    {
      "cell_type": "code",
      "metadata": {
        "id": "oOHD0P1lzwhP",
        "colab": {
          "base_uri": "https://localhost:8080/",
          "height": 647
        },
        "outputId": "1f429913-c30f-49ac-eece-17a0ea6adc33"
      },
      "source": [
        "df.head(20)"
      ],
      "execution_count": 15,
      "outputs": [
        {
          "output_type": "execute_result",
          "data": {
            "text/html": [
              "<div>\n",
              "<style scoped>\n",
              "    .dataframe tbody tr th:only-of-type {\n",
              "        vertical-align: middle;\n",
              "    }\n",
              "\n",
              "    .dataframe tbody tr th {\n",
              "        vertical-align: top;\n",
              "    }\n",
              "\n",
              "    .dataframe thead th {\n",
              "        text-align: right;\n",
              "    }\n",
              "</style>\n",
              "<table border=\"1\" class=\"dataframe\">\n",
              "  <thead>\n",
              "    <tr style=\"text-align: right;\">\n",
              "      <th></th>\n",
              "      <th>PROD_CD</th>\n",
              "      <th>SLSMAN_CD</th>\n",
              "      <th>PLAN_MONTH</th>\n",
              "      <th>PLAN_YEAR</th>\n",
              "      <th>TARGET_IN_EA</th>\n",
              "      <th>ACH_IN_EA</th>\n",
              "    </tr>\n",
              "  </thead>\n",
              "  <tbody>\n",
              "    <tr>\n",
              "      <th>0</th>\n",
              "      <td>PROD_3</td>\n",
              "      <td>SLSMAN_1</td>\n",
              "      <td>10</td>\n",
              "      <td>2019</td>\n",
              "      <td>80</td>\n",
              "      <td>0</td>\n",
              "    </tr>\n",
              "    <tr>\n",
              "      <th>1</th>\n",
              "      <td>PROD_3</td>\n",
              "      <td>SLSMAN_1</td>\n",
              "      <td>11</td>\n",
              "      <td>2019</td>\n",
              "      <td>80</td>\n",
              "      <td>0</td>\n",
              "    </tr>\n",
              "    <tr>\n",
              "      <th>2</th>\n",
              "      <td>PROD_3</td>\n",
              "      <td>SLSMAN_1</td>\n",
              "      <td>12</td>\n",
              "      <td>2019</td>\n",
              "      <td>40</td>\n",
              "      <td>0</td>\n",
              "    </tr>\n",
              "    <tr>\n",
              "      <th>3</th>\n",
              "      <td>PROD_5</td>\n",
              "      <td>SLSMAN_1</td>\n",
              "      <td>10</td>\n",
              "      <td>2019</td>\n",
              "      <td>160</td>\n",
              "      <td>211</td>\n",
              "    </tr>\n",
              "    <tr>\n",
              "      <th>4</th>\n",
              "      <td>PROD_5</td>\n",
              "      <td>SLSMAN_1</td>\n",
              "      <td>11</td>\n",
              "      <td>2019</td>\n",
              "      <td>160</td>\n",
              "      <td>173</td>\n",
              "    </tr>\n",
              "    <tr>\n",
              "      <th>5</th>\n",
              "      <td>PROD_5</td>\n",
              "      <td>SLSMAN_1</td>\n",
              "      <td>12</td>\n",
              "      <td>2019</td>\n",
              "      <td>240</td>\n",
              "      <td>175</td>\n",
              "    </tr>\n",
              "    <tr>\n",
              "      <th>6</th>\n",
              "      <td>PROD_8</td>\n",
              "      <td>SLSMAN_1</td>\n",
              "      <td>10</td>\n",
              "      <td>2019</td>\n",
              "      <td>0</td>\n",
              "      <td>7</td>\n",
              "    </tr>\n",
              "    <tr>\n",
              "      <th>7</th>\n",
              "      <td>PROD_10</td>\n",
              "      <td>SLSMAN_1</td>\n",
              "      <td>10</td>\n",
              "      <td>2019</td>\n",
              "      <td>0</td>\n",
              "      <td>82</td>\n",
              "    </tr>\n",
              "    <tr>\n",
              "      <th>8</th>\n",
              "      <td>PROD_10</td>\n",
              "      <td>SLSMAN_1</td>\n",
              "      <td>11</td>\n",
              "      <td>2019</td>\n",
              "      <td>0</td>\n",
              "      <td>79</td>\n",
              "    </tr>\n",
              "    <tr>\n",
              "      <th>9</th>\n",
              "      <td>PROD_10</td>\n",
              "      <td>SLSMAN_1</td>\n",
              "      <td>12</td>\n",
              "      <td>2019</td>\n",
              "      <td>0</td>\n",
              "      <td>59</td>\n",
              "    </tr>\n",
              "    <tr>\n",
              "      <th>10</th>\n",
              "      <td>PROD_11</td>\n",
              "      <td>SLSMAN_1</td>\n",
              "      <td>10</td>\n",
              "      <td>2019</td>\n",
              "      <td>432</td>\n",
              "      <td>356</td>\n",
              "    </tr>\n",
              "    <tr>\n",
              "      <th>11</th>\n",
              "      <td>PROD_11</td>\n",
              "      <td>SLSMAN_1</td>\n",
              "      <td>11</td>\n",
              "      <td>2019</td>\n",
              "      <td>540</td>\n",
              "      <td>296</td>\n",
              "    </tr>\n",
              "    <tr>\n",
              "      <th>12</th>\n",
              "      <td>PROD_11</td>\n",
              "      <td>SLSMAN_1</td>\n",
              "      <td>12</td>\n",
              "      <td>2019</td>\n",
              "      <td>324</td>\n",
              "      <td>279</td>\n",
              "    </tr>\n",
              "    <tr>\n",
              "      <th>13</th>\n",
              "      <td>PROD_13</td>\n",
              "      <td>SLSMAN_1</td>\n",
              "      <td>10</td>\n",
              "      <td>2019</td>\n",
              "      <td>16,488</td>\n",
              "      <td>15,053</td>\n",
              "    </tr>\n",
              "    <tr>\n",
              "      <th>14</th>\n",
              "      <td>PROD_13</td>\n",
              "      <td>SLSMAN_1</td>\n",
              "      <td>11</td>\n",
              "      <td>2019</td>\n",
              "      <td>11,808</td>\n",
              "      <td>8,951</td>\n",
              "    </tr>\n",
              "    <tr>\n",
              "      <th>15</th>\n",
              "      <td>PROD_13</td>\n",
              "      <td>SLSMAN_1</td>\n",
              "      <td>12</td>\n",
              "      <td>2019</td>\n",
              "      <td>11,700</td>\n",
              "      <td>10,266</td>\n",
              "    </tr>\n",
              "    <tr>\n",
              "      <th>16</th>\n",
              "      <td>PROD_14</td>\n",
              "      <td>SLSMAN_1</td>\n",
              "      <td>10</td>\n",
              "      <td>2019</td>\n",
              "      <td>46,908</td>\n",
              "      <td>55,332</td>\n",
              "    </tr>\n",
              "    <tr>\n",
              "      <th>17</th>\n",
              "      <td>PROD_14</td>\n",
              "      <td>SLSMAN_1</td>\n",
              "      <td>11</td>\n",
              "      <td>2019</td>\n",
              "      <td>33,588</td>\n",
              "      <td>32,966</td>\n",
              "    </tr>\n",
              "    <tr>\n",
              "      <th>18</th>\n",
              "      <td>PROD_14</td>\n",
              "      <td>SLSMAN_1</td>\n",
              "      <td>12</td>\n",
              "      <td>2019</td>\n",
              "      <td>41,436</td>\n",
              "      <td>34,820</td>\n",
              "    </tr>\n",
              "    <tr>\n",
              "      <th>19</th>\n",
              "      <td>PROD_15</td>\n",
              "      <td>SLSMAN_1</td>\n",
              "      <td>10</td>\n",
              "      <td>2019</td>\n",
              "      <td>16,260</td>\n",
              "      <td>14,578</td>\n",
              "    </tr>\n",
              "  </tbody>\n",
              "</table>\n",
              "</div>"
            ],
            "text/plain": [
              "    PROD_CD SLSMAN_CD  PLAN_MONTH  PLAN_YEAR TARGET_IN_EA ACH_IN_EA\n",
              "0    PROD_3  SLSMAN_1          10       2019           80         0\n",
              "1    PROD_3  SLSMAN_1          11       2019           80         0\n",
              "2    PROD_3  SLSMAN_1          12       2019           40         0\n",
              "3    PROD_5  SLSMAN_1          10       2019          160       211\n",
              "4    PROD_5  SLSMAN_1          11       2019          160       173\n",
              "5    PROD_5  SLSMAN_1          12       2019          240       175\n",
              "6    PROD_8  SLSMAN_1          10       2019            0         7\n",
              "7   PROD_10  SLSMAN_1          10       2019            0        82\n",
              "8   PROD_10  SLSMAN_1          11       2019            0        79\n",
              "9   PROD_10  SLSMAN_1          12       2019            0        59\n",
              "10  PROD_11  SLSMAN_1          10       2019          432       356\n",
              "11  PROD_11  SLSMAN_1          11       2019          540       296\n",
              "12  PROD_11  SLSMAN_1          12       2019          324       279\n",
              "13  PROD_13  SLSMAN_1          10       2019       16,488    15,053\n",
              "14  PROD_13  SLSMAN_1          11       2019       11,808     8,951\n",
              "15  PROD_13  SLSMAN_1          12       2019       11,700    10,266\n",
              "16  PROD_14  SLSMAN_1          10       2019       46,908    55,332\n",
              "17  PROD_14  SLSMAN_1          11       2019       33,588    32,966\n",
              "18  PROD_14  SLSMAN_1          12       2019       41,436    34,820\n",
              "19  PROD_15  SLSMAN_1          10       2019       16,260    14,578"
            ]
          },
          "metadata": {
            "tags": []
          },
          "execution_count": 15
        }
      ]
    },
    {
      "cell_type": "markdown",
      "metadata": {
        "id": "ej5ahTIfqimz"
      },
      "source": [
        "CONVERTING CATEGORICAL VARIABLES INTO NUMERICAL VALUES."
      ]
    },
    {
      "cell_type": "code",
      "metadata": {
        "id": "Uf439EAPms73"
      },
      "source": [
        "Le=preprocessing.LabelEncoder()\n",
        "df_new=df\n",
        "df_new[\"PROD_CD\"]=Le.fit_transform(df[\"PROD_CD\"])\n",
        "df_new[\"SLSMAN_CD\"]=Le.fit_transform(df[\"SLSMAN_CD\"])\n"
      ],
      "execution_count": 16,
      "outputs": []
    },
    {
      "cell_type": "markdown",
      "metadata": {
        "id": "lzzXl51Wjpqu"
      },
      "source": [
        "# I can see the variable called \"TARGET_IN_EA\" and \"ACH_IN_EA\" is containing comas(,) B/W the numbers.\r\n",
        "#so I would like to remove those comas from there using string.replace()"
      ]
    },
    {
      "cell_type": "code",
      "metadata": {
        "id": "6Yr77ZRLm_EL"
      },
      "source": [
        "df['TARGET_IN_EA'] = df['TARGET_IN_EA'].str.replace(',', '').astype(float)\n",
        "df['ACH_IN_EA'] = df['ACH_IN_EA'].str.replace(',', '').astype(float)"
      ],
      "execution_count": 17,
      "outputs": []
    },
    {
      "cell_type": "markdown",
      "metadata": {
        "id": "Pu3E745trJs6"
      },
      "source": [
        "Removing Year variable from the dataset"
      ]
    },
    {
      "cell_type": "code",
      "metadata": {
        "id": "F8v2y2CknGGz"
      },
      "source": [
        "df=df.drop([\"PLAN_YEAR\"],axis=1)\n"
      ],
      "execution_count": 18,
      "outputs": []
    },
    {
      "cell_type": "markdown",
      "metadata": {
        "id": "CtfmFBq0t39u"
      },
      "source": [
        "Dimension of dataset"
      ]
    },
    {
      "cell_type": "code",
      "metadata": {
        "id": "TnPDDrEgDT1c",
        "colab": {
          "base_uri": "https://localhost:8080/"
        },
        "outputId": "745a3293-08e9-437c-e01e-5a7634db1d5e"
      },
      "source": [
        "df.shape"
      ],
      "execution_count": 29,
      "outputs": [
        {
          "output_type": "execute_result",
          "data": {
            "text/plain": [
              "(22469, 5)"
            ]
          },
          "metadata": {
            "tags": []
          },
          "execution_count": 29
        }
      ]
    },
    {
      "cell_type": "markdown",
      "metadata": {
        "id": "mpXQQs_fu_XG"
      },
      "source": [
        "Next I would like to check the outliers and remove them"
      ]
    },
    {
      "cell_type": "code",
      "metadata": {
        "id": "0H2xGSzyJi8k",
        "colab": {
          "base_uri": "https://localhost:8080/"
        },
        "outputId": "bb1fa29e-dafd-4c55-9164-345806caa052"
      },
      "source": [
        "from scipy import stats\n",
        "z = np.abs(stats.zscore(df))\n",
        "print(z)\n"
      ],
      "execution_count": 19,
      "outputs": [
        {
          "output_type": "stream",
          "text": [
            "[[0.51171738 1.64043602 1.29826521 0.34376698 0.35010729]\n",
            " [0.51171738 1.64043602 0.0496255  0.34376698 0.35010729]\n",
            " [0.51171738 1.64043602 1.19901422 0.34747329 0.35010729]\n",
            " ...\n",
            " [1.60115336 0.46094405 1.19901422 0.3511796  0.34973024]\n",
            " [1.72792561 0.46094405 0.0496255  0.3511796  0.33860732]\n",
            " [1.72792561 0.46094405 1.19901422 0.3511796  0.33031227]]\n"
          ],
          "name": "stdout"
        }
      ]
    },
    {
      "cell_type": "markdown",
      "metadata": {
        "id": "C4jvK9qUvMhe"
      },
      "source": [
        "putting threshold value as 9"
      ]
    },
    {
      "cell_type": "code",
      "metadata": {
        "id": "Txdb3If7-_hj"
      },
      "source": [
        "threshold = 9\n",
        "New_df = df[(z < 9).all(axis=1)]"
      ],
      "execution_count": 20,
      "outputs": []
    },
    {
      "cell_type": "markdown",
      "metadata": {
        "id": "dAhDESfnrV5P"
      },
      "source": [
        "Checking the Correlation Between the varables."
      ]
    },
    {
      "cell_type": "code",
      "metadata": {
        "colab": {
          "base_uri": "https://localhost:8080/",
          "height": 197
        },
        "id": "w24t1V4FwTY8",
        "outputId": "d017bd83-d382-40c4-abc8-dedba1066d0f"
      },
      "source": [
        "New_df.corr()"
      ],
      "execution_count": 21,
      "outputs": [
        {
          "output_type": "execute_result",
          "data": {
            "text/html": [
              "<div>\n",
              "<style scoped>\n",
              "    .dataframe tbody tr th:only-of-type {\n",
              "        vertical-align: middle;\n",
              "    }\n",
              "\n",
              "    .dataframe tbody tr th {\n",
              "        vertical-align: top;\n",
              "    }\n",
              "\n",
              "    .dataframe thead th {\n",
              "        text-align: right;\n",
              "    }\n",
              "</style>\n",
              "<table border=\"1\" class=\"dataframe\">\n",
              "  <thead>\n",
              "    <tr style=\"text-align: right;\">\n",
              "      <th></th>\n",
              "      <th>PROD_CD</th>\n",
              "      <th>SLSMAN_CD</th>\n",
              "      <th>PLAN_MONTH</th>\n",
              "      <th>TARGET_IN_EA</th>\n",
              "      <th>ACH_IN_EA</th>\n",
              "    </tr>\n",
              "  </thead>\n",
              "  <tbody>\n",
              "    <tr>\n",
              "      <th>PROD_CD</th>\n",
              "      <td>1.000000</td>\n",
              "      <td>0.007582</td>\n",
              "      <td>0.067888</td>\n",
              "      <td>-0.097324</td>\n",
              "      <td>-0.073687</td>\n",
              "    </tr>\n",
              "    <tr>\n",
              "      <th>SLSMAN_CD</th>\n",
              "      <td>0.007582</td>\n",
              "      <td>1.000000</td>\n",
              "      <td>0.002923</td>\n",
              "      <td>0.010748</td>\n",
              "      <td>0.015662</td>\n",
              "    </tr>\n",
              "    <tr>\n",
              "      <th>PLAN_MONTH</th>\n",
              "      <td>0.067888</td>\n",
              "      <td>0.002923</td>\n",
              "      <td>1.000000</td>\n",
              "      <td>-0.030547</td>\n",
              "      <td>-0.024380</td>\n",
              "    </tr>\n",
              "    <tr>\n",
              "      <th>TARGET_IN_EA</th>\n",
              "      <td>-0.097324</td>\n",
              "      <td>0.010748</td>\n",
              "      <td>-0.030547</td>\n",
              "      <td>1.000000</td>\n",
              "      <td>0.880425</td>\n",
              "    </tr>\n",
              "    <tr>\n",
              "      <th>ACH_IN_EA</th>\n",
              "      <td>-0.073687</td>\n",
              "      <td>0.015662</td>\n",
              "      <td>-0.024380</td>\n",
              "      <td>0.880425</td>\n",
              "      <td>1.000000</td>\n",
              "    </tr>\n",
              "  </tbody>\n",
              "</table>\n",
              "</div>"
            ],
            "text/plain": [
              "               PROD_CD  SLSMAN_CD  PLAN_MONTH  TARGET_IN_EA  ACH_IN_EA\n",
              "PROD_CD       1.000000   0.007582    0.067888     -0.097324  -0.073687\n",
              "SLSMAN_CD     0.007582   1.000000    0.002923      0.010748   0.015662\n",
              "PLAN_MONTH    0.067888   0.002923    1.000000     -0.030547  -0.024380\n",
              "TARGET_IN_EA -0.097324   0.010748   -0.030547      1.000000   0.880425\n",
              "ACH_IN_EA    -0.073687   0.015662   -0.024380      0.880425   1.000000"
            ]
          },
          "metadata": {
            "tags": []
          },
          "execution_count": 21
        }
      ]
    },
    {
      "cell_type": "markdown",
      "metadata": {
        "id": "hddy24thwmkA"
      },
      "source": [
        "Dimension of the new dataset"
      ]
    },
    {
      "cell_type": "code",
      "metadata": {
        "id": "VnKH8Jq7JpBF",
        "colab": {
          "base_uri": "https://localhost:8080/"
        },
        "outputId": "66aa170d-4593-45ff-f3b2-b4bfc20442ae"
      },
      "source": [
        "New_df.shape"
      ],
      "execution_count": 22,
      "outputs": [
        {
          "output_type": "execute_result",
          "data": {
            "text/plain": [
              "(22435, 5)"
            ]
          },
          "metadata": {
            "tags": []
          },
          "execution_count": 22
        }
      ]
    },
    {
      "cell_type": "markdown",
      "metadata": {
        "id": "Z2rlIuqxwrh_"
      },
      "source": [
        "Dimension of the old dataset"
      ]
    },
    {
      "cell_type": "code",
      "metadata": {
        "id": "ne5x3JvBFZyz",
        "colab": {
          "base_uri": "https://localhost:8080/"
        },
        "outputId": "2f8b6503-cf2f-4418-a244-9a528bd49c03"
      },
      "source": [
        "df.shape"
      ],
      "execution_count": 23,
      "outputs": [
        {
          "output_type": "execute_result",
          "data": {
            "text/plain": [
              "(22469, 5)"
            ]
          },
          "metadata": {
            "tags": []
          },
          "execution_count": 23
        }
      ]
    },
    {
      "cell_type": "markdown",
      "metadata": {
        "id": "oUVClNKCxG3O"
      },
      "source": [
        "Above we can see there is 34 records diffrence b/w the new dataset and old dataset."
      ]
    },
    {
      "cell_type": "code",
      "metadata": {
        "id": "ahnfsgpiFfNq",
        "colab": {
          "base_uri": "https://localhost:8080/",
          "height": 347
        },
        "outputId": "ca6b3b18-0c02-495f-90d1-5c9a83c51d12"
      },
      "source": [
        "New_df.head(10)"
      ],
      "execution_count": 24,
      "outputs": [
        {
          "output_type": "execute_result",
          "data": {
            "text/html": [
              "<div>\n",
              "<style scoped>\n",
              "    .dataframe tbody tr th:only-of-type {\n",
              "        vertical-align: middle;\n",
              "    }\n",
              "\n",
              "    .dataframe tbody tr th {\n",
              "        vertical-align: top;\n",
              "    }\n",
              "\n",
              "    .dataframe thead th {\n",
              "        text-align: right;\n",
              "    }\n",
              "</style>\n",
              "<table border=\"1\" class=\"dataframe\">\n",
              "  <thead>\n",
              "    <tr style=\"text-align: right;\">\n",
              "      <th></th>\n",
              "      <th>PROD_CD</th>\n",
              "      <th>SLSMAN_CD</th>\n",
              "      <th>PLAN_MONTH</th>\n",
              "      <th>TARGET_IN_EA</th>\n",
              "      <th>ACH_IN_EA</th>\n",
              "    </tr>\n",
              "  </thead>\n",
              "  <tbody>\n",
              "    <tr>\n",
              "      <th>0</th>\n",
              "      <td>22</td>\n",
              "      <td>0</td>\n",
              "      <td>10</td>\n",
              "      <td>80.0</td>\n",
              "      <td>0.0</td>\n",
              "    </tr>\n",
              "    <tr>\n",
              "      <th>1</th>\n",
              "      <td>22</td>\n",
              "      <td>0</td>\n",
              "      <td>11</td>\n",
              "      <td>80.0</td>\n",
              "      <td>0.0</td>\n",
              "    </tr>\n",
              "    <tr>\n",
              "      <th>2</th>\n",
              "      <td>22</td>\n",
              "      <td>0</td>\n",
              "      <td>12</td>\n",
              "      <td>40.0</td>\n",
              "      <td>0.0</td>\n",
              "    </tr>\n",
              "    <tr>\n",
              "      <th>3</th>\n",
              "      <td>44</td>\n",
              "      <td>0</td>\n",
              "      <td>10</td>\n",
              "      <td>160.0</td>\n",
              "      <td>211.0</td>\n",
              "    </tr>\n",
              "    <tr>\n",
              "      <th>4</th>\n",
              "      <td>44</td>\n",
              "      <td>0</td>\n",
              "      <td>11</td>\n",
              "      <td>160.0</td>\n",
              "      <td>173.0</td>\n",
              "    </tr>\n",
              "    <tr>\n",
              "      <th>5</th>\n",
              "      <td>44</td>\n",
              "      <td>0</td>\n",
              "      <td>12</td>\n",
              "      <td>240.0</td>\n",
              "      <td>175.0</td>\n",
              "    </tr>\n",
              "    <tr>\n",
              "      <th>6</th>\n",
              "      <td>77</td>\n",
              "      <td>0</td>\n",
              "      <td>10</td>\n",
              "      <td>0.0</td>\n",
              "      <td>7.0</td>\n",
              "    </tr>\n",
              "    <tr>\n",
              "      <th>7</th>\n",
              "      <td>1</td>\n",
              "      <td>0</td>\n",
              "      <td>10</td>\n",
              "      <td>0.0</td>\n",
              "      <td>82.0</td>\n",
              "    </tr>\n",
              "    <tr>\n",
              "      <th>8</th>\n",
              "      <td>1</td>\n",
              "      <td>0</td>\n",
              "      <td>11</td>\n",
              "      <td>0.0</td>\n",
              "      <td>79.0</td>\n",
              "    </tr>\n",
              "    <tr>\n",
              "      <th>9</th>\n",
              "      <td>1</td>\n",
              "      <td>0</td>\n",
              "      <td>12</td>\n",
              "      <td>0.0</td>\n",
              "      <td>59.0</td>\n",
              "    </tr>\n",
              "  </tbody>\n",
              "</table>\n",
              "</div>"
            ],
            "text/plain": [
              "   PROD_CD  SLSMAN_CD  PLAN_MONTH  TARGET_IN_EA  ACH_IN_EA\n",
              "0       22          0          10          80.0        0.0\n",
              "1       22          0          11          80.0        0.0\n",
              "2       22          0          12          40.0        0.0\n",
              "3       44          0          10         160.0      211.0\n",
              "4       44          0          11         160.0      173.0\n",
              "5       44          0          12         240.0      175.0\n",
              "6       77          0          10           0.0        7.0\n",
              "7        1          0          10           0.0       82.0\n",
              "8        1          0          11           0.0       79.0\n",
              "9        1          0          12           0.0       59.0"
            ]
          },
          "metadata": {
            "tags": []
          },
          "execution_count": 24
        }
      ]
    },
    {
      "cell_type": "markdown",
      "metadata": {
        "id": "EC6egHwaOIQt"
      },
      "source": [
        "Splitting the input variables in a dataframe called predictor and splitting the output variable in a dataframe called output "
      ]
    },
    {
      "cell_type": "code",
      "metadata": {
        "id": "1W7HcPYcFKLr"
      },
      "source": [
        "predictor=New_df.iloc[:,0:4]\n",
        "target=pd.DataFrame(New_df.iloc[:,4])"
      ],
      "execution_count": 25,
      "outputs": []
    },
    {
      "cell_type": "code",
      "metadata": {
        "id": "ay-qNDHboFRq",
        "colab": {
          "base_uri": "https://localhost:8080/",
          "height": 406
        },
        "outputId": "ea5c1ed0-fbc7-458e-9d54-fdfc61421e3d"
      },
      "source": [
        "predictor"
      ],
      "execution_count": 37,
      "outputs": [
        {
          "output_type": "execute_result",
          "data": {
            "text/html": [
              "<div>\n",
              "<style scoped>\n",
              "    .dataframe tbody tr th:only-of-type {\n",
              "        vertical-align: middle;\n",
              "    }\n",
              "\n",
              "    .dataframe tbody tr th {\n",
              "        vertical-align: top;\n",
              "    }\n",
              "\n",
              "    .dataframe thead th {\n",
              "        text-align: right;\n",
              "    }\n",
              "</style>\n",
              "<table border=\"1\" class=\"dataframe\">\n",
              "  <thead>\n",
              "    <tr style=\"text-align: right;\">\n",
              "      <th></th>\n",
              "      <th>PROD_CD</th>\n",
              "      <th>SLSMAN_CD</th>\n",
              "      <th>PLAN_MONTH</th>\n",
              "      <th>TARGET_IN_EA</th>\n",
              "    </tr>\n",
              "  </thead>\n",
              "  <tbody>\n",
              "    <tr>\n",
              "      <th>0</th>\n",
              "      <td>22</td>\n",
              "      <td>0</td>\n",
              "      <td>10</td>\n",
              "      <td>80.0</td>\n",
              "    </tr>\n",
              "    <tr>\n",
              "      <th>1</th>\n",
              "      <td>22</td>\n",
              "      <td>0</td>\n",
              "      <td>11</td>\n",
              "      <td>80.0</td>\n",
              "    </tr>\n",
              "    <tr>\n",
              "      <th>2</th>\n",
              "      <td>22</td>\n",
              "      <td>0</td>\n",
              "      <td>12</td>\n",
              "      <td>40.0</td>\n",
              "    </tr>\n",
              "    <tr>\n",
              "      <th>3</th>\n",
              "      <td>44</td>\n",
              "      <td>0</td>\n",
              "      <td>10</td>\n",
              "      <td>160.0</td>\n",
              "    </tr>\n",
              "    <tr>\n",
              "      <th>4</th>\n",
              "      <td>44</td>\n",
              "      <td>0</td>\n",
              "      <td>11</td>\n",
              "      <td>160.0</td>\n",
              "    </tr>\n",
              "    <tr>\n",
              "      <th>...</th>\n",
              "      <td>...</td>\n",
              "      <td>...</td>\n",
              "      <td>...</td>\n",
              "      <td>...</td>\n",
              "    </tr>\n",
              "    <tr>\n",
              "      <th>22464</th>\n",
              "      <td>67</td>\n",
              "      <td>140</td>\n",
              "      <td>11</td>\n",
              "      <td>0.0</td>\n",
              "    </tr>\n",
              "    <tr>\n",
              "      <th>22465</th>\n",
              "      <td>67</td>\n",
              "      <td>140</td>\n",
              "      <td>12</td>\n",
              "      <td>0.0</td>\n",
              "    </tr>\n",
              "    <tr>\n",
              "      <th>22466</th>\n",
              "      <td>72</td>\n",
              "      <td>140</td>\n",
              "      <td>12</td>\n",
              "      <td>0.0</td>\n",
              "    </tr>\n",
              "    <tr>\n",
              "      <th>22467</th>\n",
              "      <td>75</td>\n",
              "      <td>140</td>\n",
              "      <td>11</td>\n",
              "      <td>0.0</td>\n",
              "    </tr>\n",
              "    <tr>\n",
              "      <th>22468</th>\n",
              "      <td>75</td>\n",
              "      <td>140</td>\n",
              "      <td>12</td>\n",
              "      <td>0.0</td>\n",
              "    </tr>\n",
              "  </tbody>\n",
              "</table>\n",
              "<p>22435 rows × 4 columns</p>\n",
              "</div>"
            ],
            "text/plain": [
              "       PROD_CD  SLSMAN_CD  PLAN_MONTH  TARGET_IN_EA\n",
              "0           22          0          10          80.0\n",
              "1           22          0          11          80.0\n",
              "2           22          0          12          40.0\n",
              "3           44          0          10         160.0\n",
              "4           44          0          11         160.0\n",
              "...        ...        ...         ...           ...\n",
              "22464       67        140          11           0.0\n",
              "22465       67        140          12           0.0\n",
              "22466       72        140          12           0.0\n",
              "22467       75        140          11           0.0\n",
              "22468       75        140          12           0.0\n",
              "\n",
              "[22435 rows x 4 columns]"
            ]
          },
          "metadata": {
            "tags": []
          },
          "execution_count": 37
        }
      ]
    },
    {
      "cell_type": "markdown",
      "metadata": {
        "id": "J-qTtXaAGIFk"
      },
      "source": [
        "#spliting the data's into Xtrain,Ytrain,Xtest,Ytest and Ytest\r\n"
      ]
    },
    {
      "cell_type": "code",
      "metadata": {
        "id": "MLUH6fgrobyd"
      },
      "source": [
        "Xtrain,Xtest,Ytrain,Ytest=train_test_split(predictor,target,test_size=0.2,random_state=0)"
      ],
      "execution_count": 26,
      "outputs": []
    },
    {
      "cell_type": "markdown",
      "metadata": {
        "id": "0H_sY9suJBvX"
      },
      "source": [
        "**Model Building** "
      ]
    },
    {
      "cell_type": "markdown",
      "metadata": {
        "id": "zQrwDFgaqLII"
      },
      "source": [
        "Model-1 using RANDOM FOREST REGRESSOR"
      ]
    },
    {
      "cell_type": "code",
      "metadata": {
        "id": "FXl6dp8Ho9oI"
      },
      "source": [
        "from sklearn.ensemble import RandomForestRegressor\n"
      ],
      "execution_count": 30,
      "outputs": []
    },
    {
      "cell_type": "markdown",
      "metadata": {
        "id": "iJWx5rCjJXi_"
      },
      "source": [
        "Training the model"
      ]
    },
    {
      "cell_type": "code",
      "metadata": {
        "id": "AWIfM_YepAtV",
        "colab": {
          "base_uri": "https://localhost:8080/"
        },
        "outputId": "4dfad1d8-761d-4f62-a582-af73ce260c9f"
      },
      "source": [
        "RF = RandomForestRegressor(n_estimators = 1000,oob_score = True,n_jobs = -1,random_state =2)\n",
        "RF.fit(Xtrain,Ytrain)\n"
      ],
      "execution_count": 172,
      "outputs": [
        {
          "output_type": "stream",
          "text": [
            "/usr/local/lib/python3.7/dist-packages/ipykernel_launcher.py:2: DataConversionWarning: A column-vector y was passed when a 1d array was expected. Please change the shape of y to (n_samples,), for example using ravel().\n",
            "  \n"
          ],
          "name": "stderr"
        },
        {
          "output_type": "execute_result",
          "data": {
            "text/plain": [
              "RandomForestRegressor(bootstrap=True, ccp_alpha=0.0, criterion='mse',\n",
              "                      max_depth=None, max_features='auto', max_leaf_nodes=None,\n",
              "                      max_samples=None, min_impurity_decrease=0.0,\n",
              "                      min_impurity_split=None, min_samples_leaf=1,\n",
              "                      min_samples_split=2, min_weight_fraction_leaf=0.0,\n",
              "                      n_estimators=1000, n_jobs=-1, oob_score=True,\n",
              "                      random_state=2, verbose=0, warm_start=False)"
            ]
          },
          "metadata": {
            "tags": []
          },
          "execution_count": 172
        }
      ]
    },
    {
      "cell_type": "markdown",
      "metadata": {
        "id": "M9X8spoBJmff"
      },
      "source": [
        "Accuracy score for test data"
      ]
    },
    {
      "cell_type": "code",
      "metadata": {
        "id": "8FRD6fya8yQm",
        "colab": {
          "base_uri": "https://localhost:8080/"
        },
        "outputId": "670dee43-9e94-4d4b-c40b-2650fe7fdf78"
      },
      "source": [
        "RF.score(Xtest,Ytest)"
      ],
      "execution_count": 173,
      "outputs": [
        {
          "output_type": "execute_result",
          "data": {
            "text/plain": [
              "0.8841884975005025"
            ]
          },
          "metadata": {
            "tags": []
          },
          "execution_count": 173
        }
      ]
    },
    {
      "cell_type": "markdown",
      "metadata": {
        "id": "LbJyv-LeJyUD"
      },
      "source": [
        "Accuracy score for train data"
      ]
    },
    {
      "cell_type": "code",
      "metadata": {
        "id": "dgcHNqjE86ky",
        "colab": {
          "base_uri": "https://localhost:8080/"
        },
        "outputId": "bc214630-abe1-46bf-9969-f63efaf3b296"
      },
      "source": [
        "RF.score(Xtrain,Ytrain)"
      ],
      "execution_count": 174,
      "outputs": [
        {
          "output_type": "execute_result",
          "data": {
            "text/plain": [
              "0.9840545755178572"
            ]
          },
          "metadata": {
            "tags": []
          },
          "execution_count": 174
        }
      ]
    },
    {
      "cell_type": "markdown",
      "metadata": {
        "id": "5QZBXmtmKDt8"
      },
      "source": [
        "Predicting the outcomes"
      ]
    },
    {
      "cell_type": "code",
      "metadata": {
        "id": "6nZFRli5KC1r"
      },
      "source": [
        "RF_pred=RF.predict(Xtest)"
      ],
      "execution_count": 175,
      "outputs": []
    },
    {
      "cell_type": "markdown",
      "metadata": {
        "id": "PO3HXIQJJ6AA"
      },
      "source": [
        "Rmse"
      ]
    },
    {
      "cell_type": "code",
      "metadata": {
        "id": "4cOGfijy6WZT",
        "colab": {
          "base_uri": "https://localhost:8080/"
        },
        "outputId": "ee63c820-a441-4a42-db02-85f259e5afad"
      },
      "source": [
        "rmse_linear = np.sqrt(np.mean((np.array(Ytest['ACH_IN_EA'])-np.array(RF_pred))**2))\n",
        "rmse_linear\n"
      ],
      "execution_count": 176,
      "outputs": [
        {
          "output_type": "execute_result",
          "data": {
            "text/plain": [
              "3060.7314348438827"
            ]
          },
          "metadata": {
            "tags": []
          },
          "execution_count": 176
        }
      ]
    },
    {
      "cell_type": "markdown",
      "metadata": {
        "id": "KmMzPRAVLOgQ"
      },
      "source": [
        "MSE"
      ]
    },
    {
      "cell_type": "code",
      "metadata": {
        "id": "4IMEkl1wwjdv",
        "colab": {
          "base_uri": "https://localhost:8080/"
        },
        "outputId": "5ea57673-144a-4adb-c094-93d1ad2723c0"
      },
      "source": [
        "metrics.mean_squared_error(Ytest,RF_pred)"
      ],
      "execution_count": 177,
      "outputs": [
        {
          "output_type": "execute_result",
          "data": {
            "text/plain": [
              "9368076.916241493"
            ]
          },
          "metadata": {
            "tags": []
          },
          "execution_count": 177
        }
      ]
    },
    {
      "cell_type": "markdown",
      "metadata": {
        "id": "dNyyyPADyQZ5"
      },
      "source": [
        "MEAN ABSOLUTE ERROR"
      ]
    },
    {
      "cell_type": "code",
      "metadata": {
        "id": "KZh5e68_wse-",
        "colab": {
          "base_uri": "https://localhost:8080/"
        },
        "outputId": "12ac225d-e52d-494e-89a8-3773e8f4e652"
      },
      "source": [
        "metrics.mean_absolute_error(Ytest,RF_pred)"
      ],
      "execution_count": 178,
      "outputs": [
        {
          "output_type": "execute_result",
          "data": {
            "text/plain": [
              "1001.0882048139069"
            ]
          },
          "metadata": {
            "tags": []
          },
          "execution_count": 178
        }
      ]
    },
    {
      "cell_type": "code",
      "metadata": {
        "id": "D4p1rdN2gDqx",
        "colab": {
          "base_uri": "https://localhost:8080/",
          "height": 406
        },
        "outputId": "517ad977-72fe-436a-e822-df2d49eb0d28"
      },
      "source": [
        "pd.DataFrame(RF_pred)"
      ],
      "execution_count": 46,
      "outputs": [
        {
          "output_type": "execute_result",
          "data": {
            "text/html": [
              "<div>\n",
              "<style scoped>\n",
              "    .dataframe tbody tr th:only-of-type {\n",
              "        vertical-align: middle;\n",
              "    }\n",
              "\n",
              "    .dataframe tbody tr th {\n",
              "        vertical-align: top;\n",
              "    }\n",
              "\n",
              "    .dataframe thead th {\n",
              "        text-align: right;\n",
              "    }\n",
              "</style>\n",
              "<table border=\"1\" class=\"dataframe\">\n",
              "  <thead>\n",
              "    <tr style=\"text-align: right;\">\n",
              "      <th></th>\n",
              "      <th>0</th>\n",
              "    </tr>\n",
              "  </thead>\n",
              "  <tbody>\n",
              "    <tr>\n",
              "      <th>0</th>\n",
              "      <td>1616.653</td>\n",
              "    </tr>\n",
              "    <tr>\n",
              "      <th>1</th>\n",
              "      <td>2193.729</td>\n",
              "    </tr>\n",
              "    <tr>\n",
              "      <th>2</th>\n",
              "      <td>85.877</td>\n",
              "    </tr>\n",
              "    <tr>\n",
              "      <th>3</th>\n",
              "      <td>303.830</td>\n",
              "    </tr>\n",
              "    <tr>\n",
              "      <th>4</th>\n",
              "      <td>325.558</td>\n",
              "    </tr>\n",
              "    <tr>\n",
              "      <th>...</th>\n",
              "      <td>...</td>\n",
              "    </tr>\n",
              "    <tr>\n",
              "      <th>4482</th>\n",
              "      <td>115.892</td>\n",
              "    </tr>\n",
              "    <tr>\n",
              "      <th>4483</th>\n",
              "      <td>421.896</td>\n",
              "    </tr>\n",
              "    <tr>\n",
              "      <th>4484</th>\n",
              "      <td>1767.782</td>\n",
              "    </tr>\n",
              "    <tr>\n",
              "      <th>4485</th>\n",
              "      <td>21749.433</td>\n",
              "    </tr>\n",
              "    <tr>\n",
              "      <th>4486</th>\n",
              "      <td>4285.162</td>\n",
              "    </tr>\n",
              "  </tbody>\n",
              "</table>\n",
              "<p>4487 rows × 1 columns</p>\n",
              "</div>"
            ],
            "text/plain": [
              "              0\n",
              "0      1616.653\n",
              "1      2193.729\n",
              "2        85.877\n",
              "3       303.830\n",
              "4       325.558\n",
              "...         ...\n",
              "4482    115.892\n",
              "4483    421.896\n",
              "4484   1767.782\n",
              "4485  21749.433\n",
              "4486   4285.162\n",
              "\n",
              "[4487 rows x 1 columns]"
            ]
          },
          "metadata": {
            "tags": []
          },
          "execution_count": 46
        }
      ]
    },
    {
      "cell_type": "code",
      "metadata": {
        "id": "8RYt4qEdfyvp"
      },
      "source": [
        "import matplotlib.pyplot as plt "
      ],
      "execution_count": null,
      "outputs": []
    },
    {
      "cell_type": "markdown",
      "metadata": {
        "id": "Vxxs4eXOKhW9"
      },
      "source": [
        "Scatter plot for predicted v/s actual data."
      ]
    },
    {
      "cell_type": "code",
      "metadata": {
        "id": "cZgmK0cUhChV",
        "colab": {
          "base_uri": "https://localhost:8080/",
          "height": 282
        },
        "outputId": "ffa67e4e-898d-45df-af07-24c7ebd4c911"
      },
      "source": [
        "plt.scatter(Ytest,RF6_pred)"
      ],
      "execution_count": null,
      "outputs": [
        {
          "output_type": "execute_result",
          "data": {
            "text/plain": [
              "<matplotlib.collections.PathCollection at 0x7f07913c6438>"
            ]
          },
          "metadata": {
            "tags": []
          },
          "execution_count": 22
        },
        {
          "output_type": "display_data",
          "data": {
            "image/png": "[encoded data removed]",
            "text/plain": [
              "<Figure size 432x288 with 1 Axes>"
            ]
          },
          "metadata": {
            "tags": [],
            "needs_background": "light"
          }
        }
      ]
    },
    {
      "cell_type": "markdown",
      "metadata": {
        "id": "W2psxJ5YqRDY"
      },
      "source": [
        "MODEL-2 using Random forest Regressor by using Regularization technique."
      ]
    },
    {
      "cell_type": "code",
      "metadata": {
        "id": "VoP5VKmQtq69"
      },
      "source": [
        "RF2 = RandomForestRegressor(n_estimators = 100,oob_score = True,n_jobs = -1,random_state =1)\n"
      ],
      "execution_count": 51,
      "outputs": []
    },
    {
      "cell_type": "markdown",
      "metadata": {
        "id": "ZREYt2fAMkSR"
      },
      "source": [
        "Training the  model"
      ]
    },
    {
      "cell_type": "code",
      "metadata": {
        "id": "Za_BZMFKuNy6",
        "colab": {
          "base_uri": "https://localhost:8080/"
        },
        "outputId": "4f82f8df-38bc-4287-9e97-c855e39ad74e"
      },
      "source": [
        "RF2.fit(Xtrain,Ytrain)\n"
      ],
      "execution_count": 52,
      "outputs": [
        {
          "output_type": "stream",
          "text": [
            "/usr/local/lib/python3.7/dist-packages/ipykernel_launcher.py:1: DataConversionWarning: A column-vector y was passed when a 1d array was expected. Please change the shape of y to (n_samples,), for example using ravel().\n",
            "  \"\"\"Entry point for launching an IPython kernel.\n"
          ],
          "name": "stderr"
        },
        {
          "output_type": "execute_result",
          "data": {
            "text/plain": [
              "RandomForestRegressor(bootstrap=True, ccp_alpha=0.0, criterion='mse',\n",
              "                      max_depth=None, max_features='auto', max_leaf_nodes=None,\n",
              "                      max_samples=None, min_impurity_decrease=0.0,\n",
              "                      min_impurity_split=None, min_samples_leaf=1,\n",
              "                      min_samples_split=2, min_weight_fraction_leaf=0.0,\n",
              "                      n_estimators=100, n_jobs=-1, oob_score=True,\n",
              "                      random_state=1, verbose=0, warm_start=False)"
            ]
          },
          "metadata": {
            "tags": []
          },
          "execution_count": 52
        }
      ]
    },
    {
      "cell_type": "markdown",
      "metadata": {
        "id": "9u3ujSeWNEA4"
      },
      "source": [
        "Accuracy score for test data"
      ]
    },
    {
      "cell_type": "code",
      "metadata": {
        "colab": {
          "base_uri": "https://localhost:8080/"
        },
        "id": "Cq4IId1ZNGnH",
        "outputId": "922d9278-39a9-490e-e08a-f1e3836cb4ee"
      },
      "source": [
        "RF2.score(Xtest,Ytest)"
      ],
      "execution_count": 55,
      "outputs": [
        {
          "output_type": "execute_result",
          "data": {
            "text/plain": [
              "0.8802565085776038"
            ]
          },
          "metadata": {
            "tags": []
          },
          "execution_count": 55
        }
      ]
    },
    {
      "cell_type": "markdown",
      "metadata": {
        "id": "zW248fFKNAN8"
      },
      "source": [
        "Accuracy score for train data"
      ]
    },
    {
      "cell_type": "code",
      "metadata": {
        "colab": {
          "base_uri": "https://localhost:8080/"
        },
        "id": "zHGCUwbsM5cQ",
        "outputId": "191d17ef-1458-4222-af0b-ce8c23999d7b"
      },
      "source": [
        "RF2.score(Xtrain,Ytrain)"
      ],
      "execution_count": 54,
      "outputs": [
        {
          "output_type": "execute_result",
          "data": {
            "text/plain": [
              "0.9835104206213634"
            ]
          },
          "metadata": {
            "tags": []
          },
          "execution_count": 54
        }
      ]
    },
    {
      "cell_type": "code",
      "metadata": {
        "id": "xP5EeCItGQNw"
      },
      "source": [
        "RMSE"
      ],
      "execution_count": null,
      "outputs": []
    },
    {
      "cell_type": "code",
      "metadata": {
        "id": "B0qysD1RF_Nb",
        "colab": {
          "base_uri": "https://localhost:8080/",
          "height": 34
        },
        "outputId": "5279daaa-8411-4002-b08f-80a1a2485933"
      },
      "source": [
        "rmse_linear = np.sqrt(np.mean((np.array(Ytest['ACH_IN_EA'])-np.array(RF2_pred))**2))\n",
        "rmse_linear\n"
      ],
      "execution_count": null,
      "outputs": [
        {
          "output_type": "execute_result",
          "data": {
            "text/plain": [
              "2219.6737952772332"
            ]
          },
          "metadata": {
            "tags": []
          },
          "execution_count": 88
        }
      ]
    },
    {
      "cell_type": "markdown",
      "metadata": {
        "id": "5bySlieWyOkF"
      },
      "source": [
        "MSE"
      ]
    },
    {
      "cell_type": "code",
      "metadata": {
        "colab": {
          "base_uri": "https://localhost:8080/"
        },
        "id": "MH9tGQZiN8B5",
        "outputId": "614f0561-3646-4bb5-e643-2a0a99e8b535"
      },
      "source": [
        "metrics.mean_squared_error(Ytest,RF2_pred)"
      ],
      "execution_count": 57,
      "outputs": [
        {
          "output_type": "execute_result",
          "data": {
            "text/plain": [
              "9686138.368416201"
            ]
          },
          "metadata": {
            "tags": []
          },
          "execution_count": 57
        }
      ]
    },
    {
      "cell_type": "markdown",
      "metadata": {
        "id": "qjJvUvWSOBNX"
      },
      "source": [
        "MEAN ABSOLUTE ERROR"
      ]
    },
    {
      "cell_type": "code",
      "metadata": {
        "colab": {
          "base_uri": "https://localhost:8080/"
        },
        "id": "ef9cEV-KODTb",
        "outputId": "1f06311b-e8dd-4d6c-82cc-ebe23ab2ae5b"
      },
      "source": [
        "metrics.mean_absolute_error(Ytest,RF2_pred)"
      ],
      "execution_count": 58,
      "outputs": [
        {
          "output_type": "execute_result",
          "data": {
            "text/plain": [
              "1008.3125763316245"
            ]
          },
          "metadata": {
            "tags": []
          },
          "execution_count": 58
        }
      ]
    },
    {
      "cell_type": "markdown",
      "metadata": {
        "id": "gyCrZINrORkv"
      },
      "source": [
        "Prediction"
      ]
    },
    {
      "cell_type": "code",
      "metadata": {
        "id": "SFzfw7D51KyU"
      },
      "source": [
        "RF2_pred=RF2.predict(Xtest)"
      ],
      "execution_count": 60,
      "outputs": []
    },
    {
      "cell_type": "code",
      "metadata": {
        "colab": {
          "base_uri": "https://localhost:8080/",
          "height": 406
        },
        "id": "413hLu8VObWJ",
        "outputId": "c05de7f6-aeeb-4100-82b4-3cfc2f9e453b"
      },
      "source": [
        "pd.DataFrame(RF2_pred)"
      ],
      "execution_count": 61,
      "outputs": [
        {
          "output_type": "execute_result",
          "data": {
            "text/html": [
              "<div>\n",
              "<style scoped>\n",
              "    .dataframe tbody tr th:only-of-type {\n",
              "        vertical-align: middle;\n",
              "    }\n",
              "\n",
              "    .dataframe tbody tr th {\n",
              "        vertical-align: top;\n",
              "    }\n",
              "\n",
              "    .dataframe thead th {\n",
              "        text-align: right;\n",
              "    }\n",
              "</style>\n",
              "<table border=\"1\" class=\"dataframe\">\n",
              "  <thead>\n",
              "    <tr style=\"text-align: right;\">\n",
              "      <th></th>\n",
              "      <th>0</th>\n",
              "    </tr>\n",
              "  </thead>\n",
              "  <tbody>\n",
              "    <tr>\n",
              "      <th>0</th>\n",
              "      <td>1519.70</td>\n",
              "    </tr>\n",
              "    <tr>\n",
              "      <th>1</th>\n",
              "      <td>1765.88</td>\n",
              "    </tr>\n",
              "    <tr>\n",
              "      <th>2</th>\n",
              "      <td>87.36</td>\n",
              "    </tr>\n",
              "    <tr>\n",
              "      <th>3</th>\n",
              "      <td>308.02</td>\n",
              "    </tr>\n",
              "    <tr>\n",
              "      <th>4</th>\n",
              "      <td>310.03</td>\n",
              "    </tr>\n",
              "    <tr>\n",
              "      <th>...</th>\n",
              "      <td>...</td>\n",
              "    </tr>\n",
              "    <tr>\n",
              "      <th>4482</th>\n",
              "      <td>115.54</td>\n",
              "    </tr>\n",
              "    <tr>\n",
              "      <th>4483</th>\n",
              "      <td>447.21</td>\n",
              "    </tr>\n",
              "    <tr>\n",
              "      <th>4484</th>\n",
              "      <td>1660.93</td>\n",
              "    </tr>\n",
              "    <tr>\n",
              "      <th>4485</th>\n",
              "      <td>20588.44</td>\n",
              "    </tr>\n",
              "    <tr>\n",
              "      <th>4486</th>\n",
              "      <td>4349.78</td>\n",
              "    </tr>\n",
              "  </tbody>\n",
              "</table>\n",
              "<p>4487 rows × 1 columns</p>\n",
              "</div>"
            ],
            "text/plain": [
              "             0\n",
              "0      1519.70\n",
              "1      1765.88\n",
              "2        87.36\n",
              "3       308.02\n",
              "4       310.03\n",
              "...        ...\n",
              "4482    115.54\n",
              "4483    447.21\n",
              "4484   1660.93\n",
              "4485  20588.44\n",
              "4486   4349.78\n",
              "\n",
              "[4487 rows x 1 columns]"
            ]
          },
          "metadata": {
            "tags": []
          },
          "execution_count": 61
        }
      ]
    },
    {
      "cell_type": "markdown",
      "metadata": {
        "id": "en0-gFY-OhnI"
      },
      "source": [
        "Scatter plot for prediced v/s actual data."
      ]
    },
    {
      "cell_type": "code",
      "metadata": {
        "colab": {
          "base_uri": "https://localhost:8080/",
          "height": 282
        },
        "id": "qG-k7JlAOgo2",
        "outputId": "5be6b600-462e-4a60-f0fd-2e03395d46dd"
      },
      "source": [
        "import matplotlib.pyplot as plt \r\n",
        "plt.scatter(Ytest,RF2_pred)"
      ],
      "execution_count": 63,
      "outputs": [
        {
          "output_type": "execute_result",
          "data": {
            "text/plain": [
              "<matplotlib.collections.PathCollection at 0x7f9cf7c2c850>"
            ]
          },
          "metadata": {
            "tags": []
          },
          "execution_count": 63
        },
        {
          "output_type": "display_data",
          "data": {
            "image/png": "[encoded data removed]",
            "text/plain": [
              "<Figure size 432x288 with 1 Axes>"
            ]
          },
          "metadata": {
            "tags": [],
            "needs_background": "light"
          }
        }
      ]
    },
    {
      "cell_type": "markdown",
      "metadata": {
        "id": "XBGlPn2rO_TA"
      },
      "source": [
        "Model-3 using RandomizedsearchCV with RandomForestRegressor"
      ]
    },
    {
      "cell_type": "code",
      "metadata": {
        "id": "qDSnQ4Ve1f9g"
      },
      "source": [
        "from sklearn.model_selection import RandomizedSearchCV\n"
      ],
      "execution_count": null,
      "outputs": []
    },
    {
      "cell_type": "markdown",
      "metadata": {
        "id": "cOkcCacPPQkf"
      },
      "source": [
        "Hyper parameter tuning"
      ]
    },
    {
      "cell_type": "code",
      "metadata": {
        "id": "G_rotOUR132m"
      },
      "source": [
        "n_estimators = [int(x) for x in np.linspace(start = 200, stop = 2000, num = 10)]\n",
        "max_features = ['auto', 'sqrt']\n",
        "max_depth = [int(x) for x in np.linspace(10, 110, num = 11)]\n",
        "max_depth.append(None)\n",
        "min_samples_split = [2, 5, 10]\n",
        "min_samples_leaf = [1, 2, 4]\n",
        "bootstrap = [True, False]\n",
        "random_grid = {'n_estimators': n_estimators,\n",
        "               'max_features': max_features,\n",
        "               'max_depth': max_depth,\n",
        "               'min_samples_split': min_samples_split,\n",
        "               'min_samples_leaf': min_samples_leaf,\n",
        "               'bootstrap': bootstrap}"
      ],
      "execution_count": null,
      "outputs": []
    },
    {
      "cell_type": "code",
      "metadata": {
        "id": "WLP_tNFe2S4N"
      },
      "source": [
        "rf = RandomForestRegressor()\n"
      ],
      "execution_count": null,
      "outputs": []
    },
    {
      "cell_type": "markdown",
      "metadata": {
        "id": "ISYrjcLHPYXI"
      },
      "source": [
        "Building the model"
      ]
    },
    {
      "cell_type": "code",
      "metadata": {
        "id": "H2JjaWIX2rwz"
      },
      "source": [
        "rf_random = RandomizedSearchCV(estimator = rf, param_distributions = random_grid, n_iter = 100, cv = 3, verbose=2, random_state=42, n_jobs = -1)"
      ],
      "execution_count": null,
      "outputs": []
    },
    {
      "cell_type": "markdown",
      "metadata": {
        "id": "6CqcZTmQPcxV"
      },
      "source": [
        "Training the model"
      ]
    },
    {
      "cell_type": "code",
      "metadata": {
        "id": "zdokoWcx2tbf",
        "colab": {
          "base_uri": "https://localhost:8080/",
          "height": 676
        },
        "outputId": "806e1687-f4cb-4e3c-b7db-21efa9f91884"
      },
      "source": [
        "rf_random.fit(Xtrain,Ytrain)"
      ],
      "execution_count": null,
      "outputs": [
        {
          "output_type": "stream",
          "text": [
            "Fitting 3 folds for each of 100 candidates, totalling 300 fits\n"
          ],
          "name": "stdout"
        },
        {
          "output_type": "stream",
          "text": [
            "[Parallel(n_jobs=-1)]: Using backend LokyBackend with 2 concurrent workers.\n",
            "/usr/local/lib/python3.6/dist-packages/joblib/externals/loky/process_executor.py:691: UserWarning: A worker stopped while some jobs were given to the executor. This can be caused by a too short worker timeout or by a memory leak.\n",
            "  \"timeout or by a memory leak.\", UserWarning\n",
            "[Parallel(n_jobs=-1)]: Done  37 tasks      | elapsed:  7.8min\n",
            "[Parallel(n_jobs=-1)]: Done 158 tasks      | elapsed: 34.5min\n",
            "[Parallel(n_jobs=-1)]: Done 300 out of 300 | elapsed: 63.1min finished\n",
            "/usr/local/lib/python3.6/dist-packages/sklearn/model_selection/_search.py:739: DataConversionWarning: A column-vector y was passed when a 1d array was expected. Please change the shape of y to (n_samples,), for example using ravel().\n",
            "  self.best_estimator_.fit(X, y, **fit_params)\n"
          ],
          "name": "stderr"
        },
        {
          "output_type": "execute_result",
          "data": {
            "text/plain": [
              "RandomizedSearchCV(cv=3, error_score=nan,\n",
              "                   estimator=RandomForestRegressor(bootstrap=True,\n",
              "                                                   ccp_alpha=0.0,\n",
              "                                                   criterion='mse',\n",
              "                                                   max_depth=None,\n",
              "                                                   max_features='auto',\n",
              "                                                   max_leaf_nodes=None,\n",
              "                                                   max_samples=None,\n",
              "                                                   min_impurity_decrease=0.0,\n",
              "                                                   min_impurity_split=None,\n",
              "                                                   min_samples_leaf=1,\n",
              "                                                   min_samples_split=2,\n",
              "                                                   min_weight_fraction_leaf=0.0,\n",
              "                                                   n_estimators=100,\n",
              "                                                   n_jobs=None, oob_score=Fals...\n",
              "                   param_distributions={'bootstrap': [True, False],\n",
              "                                        'max_depth': [10, 20, 30, 40, 50, 60,\n",
              "                                                      70, 80, 90, 100, 110,\n",
              "                                                      None],\n",
              "                                        'max_features': ['auto', 'sqrt'],\n",
              "                                        'min_samples_leaf': [1, 2, 4],\n",
              "                                        'min_samples_split': [2, 5, 10],\n",
              "                                        'n_estimators': [200, 400, 600, 800,\n",
              "                                                         1000, 1200, 1400, 1600,\n",
              "                                                         1800, 2000]},\n",
              "                   pre_dispatch='2*n_jobs', random_state=42, refit=True,\n",
              "                   return_train_score=False, scoring=None, verbose=2)"
            ]
          },
          "metadata": {
            "tags": []
          },
          "execution_count": 118
        }
      ]
    },
    {
      "cell_type": "markdown",
      "metadata": {
        "id": "o_fgCzIfQElO"
      },
      "source": [
        "Accuracy score for test data"
      ]
    },
    {
      "cell_type": "code",
      "metadata": {
        "id": "8MbR3nTA29TG",
        "colab": {
          "base_uri": "https://localhost:8080/",
          "height": 34
        },
        "outputId": "df2ba11b-a6ef-482b-ed75-7db36f75f3bd"
      },
      "source": [
        "rf_random.score(Xtest,Ytest)"
      ],
      "execution_count": null,
      "outputs": [
        {
          "output_type": "execute_result",
          "data": {
            "text/plain": [
              "0.9010418240664319"
            ]
          },
          "metadata": {
            "tags": []
          },
          "execution_count": 31
        }
      ]
    },
    {
      "cell_type": "markdown",
      "metadata": {
        "id": "pp1fDxLJQAbT"
      },
      "source": [
        "Accuracy score for train data"
      ]
    },
    {
      "cell_type": "code",
      "metadata": {
        "id": "lSg231X6Zf0j",
        "colab": {
          "base_uri": "https://localhost:8080/",
          "height": 34
        },
        "outputId": "1eda6de1-8f11-4df0-f280-705bbfe9b635"
      },
      "source": [
        "rf_random.score(Xtrain,Ytrain)"
      ],
      "execution_count": null,
      "outputs": [
        {
          "output_type": "execute_result",
          "data": {
            "text/plain": [
              "0.9792913460098631"
            ]
          },
          "metadata": {
            "tags": []
          },
          "execution_count": 30
        }
      ]
    },
    {
      "cell_type": "markdown",
      "metadata": {
        "id": "gFLqjvqQQWU7"
      },
      "source": [
        "Prediction"
      ]
    },
    {
      "cell_type": "code",
      "metadata": {
        "id": "RKDcjgXYvX5W"
      },
      "source": [
        "Random_predicted=rf_random.predict(Xtest)"
      ],
      "execution_count": null,
      "outputs": []
    },
    {
      "cell_type": "markdown",
      "metadata": {
        "id": "pr7WK15iQhL7"
      },
      "source": [
        "Model Evaluation"
      ]
    },
    {
      "cell_type": "markdown",
      "metadata": {
        "id": "1kMbpN0HQkfy"
      },
      "source": [
        "RMSE"
      ]
    },
    {
      "cell_type": "code",
      "metadata": {
        "id": "ix-ablGTwTiZ",
        "colab": {
          "base_uri": "https://localhost:8080/",
          "height": 34
        },
        "outputId": "a7923bbe-4ec1-46b6-fe9f-1e285f642eb7"
      },
      "source": [
        "Rmse = (np.sqrt(mean_squared_error(Ytest, Random_predicted)))\n",
        "print(Rmse)"
      ],
      "execution_count": null,
      "outputs": [
        {
          "output_type": "stream",
          "text": [
            "2829.2753553891707\n"
          ],
          "name": "stdout"
        }
      ]
    },
    {
      "cell_type": "markdown",
      "metadata": {
        "id": "zVO2wXmqQweJ"
      },
      "source": [
        "MSE"
      ]
    },
    {
      "cell_type": "code",
      "metadata": {
        "colab": {
          "base_uri": "https://localhost:8080/",
          "height": 34
        },
        "id": "scE7gQGWQ0U6",
        "outputId": "9eb63e5c-1ec0-4e6b-b940-40537962ecae"
      },
      "source": [
        "metrics.mean_squared_error(Ytest,Random_predicted)"
      ],
      "execution_count": null,
      "outputs": [
        {
          "output_type": "execute_result",
          "data": {
            "text/plain": [
              "8004799.036612517"
            ]
          },
          "metadata": {
            "tags": []
          },
          "execution_count": 35
        }
      ]
    },
    {
      "cell_type": "markdown",
      "metadata": {
        "id": "D5YiSCw-Q6EO"
      },
      "source": [
        "MEAN ABSOLUTE ERROR"
      ]
    },
    {
      "cell_type": "code",
      "metadata": {
        "colab": {
          "base_uri": "https://localhost:8080/",
          "height": 34
        },
        "id": "EA45L0McQ9e0",
        "outputId": "f514252a-ce51-41b2-fb05-bdc662b5d7b4"
      },
      "source": [
        "metrics.mean_absolute_error(Ytest,Random_predicted)"
      ],
      "execution_count": null,
      "outputs": [
        {
          "output_type": "execute_result",
          "data": {
            "text/plain": [
              "956.9937003683842"
            ]
          },
          "metadata": {
            "tags": []
          },
          "execution_count": 36
        }
      ]
    },
    {
      "cell_type": "markdown",
      "metadata": {
        "id": "lDc8uGNEy5xb"
      },
      "source": [
        "SCATTER PLOT FOR PEDICTED VALUE V/S ACTUAL"
      ]
    },
    {
      "cell_type": "code",
      "metadata": {
        "id": "GQ0cJqZixtMj",
        "colab": {
          "base_uri": "https://localhost:8080/",
          "height": 284
        },
        "outputId": "da620d80-af9a-491b-df35-59495294f8b8"
      },
      "source": [
        "import matplotlib.pyplot as plt \n",
        "plt.scatter(Ytest,predicted)"
      ],
      "execution_count": null,
      "outputs": [
        {
          "output_type": "execute_result",
          "data": {
            "text/plain": [
              "<matplotlib.collections.PathCollection at 0x7fd38065ec88>"
            ]
          },
          "metadata": {
            "tags": []
          },
          "execution_count": 37
        },
        {
          "output_type": "display_data",
          "data": {
            "image/png": "[encoded data removed]",
            "text/plain": [
              "<Figure size 432x288 with 1 Axes>"
            ]
          },
          "metadata": {
            "tags": [],
            "needs_background": "light"
          }
        }
      ]
    },
    {
      "cell_type": "markdown",
      "metadata": {
        "id": "20vAt85pRHI3"
      },
      "source": [
        "Model-4 using GridSearchCV with RandomForest Regressor"
      ]
    },
    {
      "cell_type": "markdown",
      "metadata": {
        "id": "O6Qy3jpfRTbj"
      },
      "source": [
        "Hyper parameter tuning"
      ]
    },
    {
      "cell_type": "code",
      "metadata": {
        "id": "i6zcZ6t9HMGR"
      },
      "source": [
        "param_grid = {\n",
        "    'bootstrap': [True],\n",
        "    'max_depth': [80, 90, 100, 110],\n",
        "    'max_features': [2, 3],\n",
        "    'min_samples_leaf': [3, 4, 5],\n",
        "    'min_samples_split': [8, 10, 12],\n",
        "    'n_estimators': [100, 200, 300, 1000]\n",
        "}"
      ],
      "execution_count": 27,
      "outputs": []
    },
    {
      "cell_type": "markdown",
      "metadata": {
        "id": "bjcVwAxFp2-F"
      },
      "source": [
        "GRID SEARCH CV WITH RANDOM FOREST REGRESSOR"
      ]
    },
    {
      "cell_type": "code",
      "metadata": {
        "id": "YMS5LEk9HaAJ"
      },
      "source": [
        "from sklearn.model_selection import GridSearchCV\n"
      ],
      "execution_count": 28,
      "outputs": []
    },
    {
      "cell_type": "markdown",
      "metadata": {
        "id": "zb-gVa2ezR6U"
      },
      "source": [
        "Building the model"
      ]
    },
    {
      "cell_type": "code",
      "metadata": {
        "id": "00Mpa6xNHNOT"
      },
      "source": [
        "rf = RandomForestRegressor()\n",
        "grid_search = GridSearchCV(estimator = rf, param_grid = param_grid, cv = 3, n_jobs = -1, verbose = 2)"
      ],
      "execution_count": 31,
      "outputs": []
    },
    {
      "cell_type": "markdown",
      "metadata": {
        "id": "fInRUL-gzWpL"
      },
      "source": [
        "Training the model"
      ]
    },
    {
      "cell_type": "code",
      "metadata": {
        "id": "anscDZSTHdpy",
        "colab": {
          "base_uri": "https://localhost:8080/"
        },
        "outputId": "9c98f856-4fe4-494c-9822-1f27c7bd518d"
      },
      "source": [
        "grid_search.fit(Xtrain,Ytrain)"
      ],
      "execution_count": 32,
      "outputs": [
        {
          "output_type": "stream",
          "text": [
            "Fitting 3 folds for each of 288 candidates, totalling 864 fits\n"
          ],
          "name": "stdout"
        },
        {
          "output_type": "stream",
          "text": [
            "[Parallel(n_jobs=-1)]: Using backend LokyBackend with 2 concurrent workers.\n",
            "[Parallel(n_jobs=-1)]: Done  37 tasks      | elapsed:  2.5min\n",
            "[Parallel(n_jobs=-1)]: Done 158 tasks      | elapsed: 11.6min\n",
            "[Parallel(n_jobs=-1)]: Done 361 tasks      | elapsed: 27.3min\n",
            "[Parallel(n_jobs=-1)]: Done 644 tasks      | elapsed: 49.6min\n",
            "[Parallel(n_jobs=-1)]: Done 864 out of 864 | elapsed: 67.0min finished\n",
            "/usr/local/lib/python3.7/dist-packages/sklearn/model_selection/_search.py:739: DataConversionWarning: A column-vector y was passed when a 1d array was expected. Please change the shape of y to (n_samples,), for example using ravel().\n",
            "  self.best_estimator_.fit(X, y, **fit_params)\n"
          ],
          "name": "stderr"
        },
        {
          "output_type": "execute_result",
          "data": {
            "text/plain": [
              "GridSearchCV(cv=3, error_score=nan,\n",
              "             estimator=RandomForestRegressor(bootstrap=True, ccp_alpha=0.0,\n",
              "                                             criterion='mse', max_depth=None,\n",
              "                                             max_features='auto',\n",
              "                                             max_leaf_nodes=None,\n",
              "                                             max_samples=None,\n",
              "                                             min_impurity_decrease=0.0,\n",
              "                                             min_impurity_split=None,\n",
              "                                             min_samples_leaf=1,\n",
              "                                             min_samples_split=2,\n",
              "                                             min_weight_fraction_leaf=0.0,\n",
              "                                             n_estimators=100, n_jobs=None,\n",
              "                                             oob_score=False, random_state=None,\n",
              "                                             verbose=0, warm_start=False),\n",
              "             iid='deprecated', n_jobs=-1,\n",
              "             param_grid={'bootstrap': [True], 'max_depth': [80, 90, 100, 110],\n",
              "                         'max_features': [2, 3], 'min_samples_leaf': [3, 4, 5],\n",
              "                         'min_samples_split': [8, 10, 12],\n",
              "                         'n_estimators': [100, 200, 300, 1000]},\n",
              "             pre_dispatch='2*n_jobs', refit=True, return_train_score=False,\n",
              "             scoring=None, verbose=2)"
            ]
          },
          "metadata": {
            "tags": []
          },
          "execution_count": 32
        }
      ]
    },
    {
      "cell_type": "markdown",
      "metadata": {
        "id": "IXOd5-d-0-Ai"
      },
      "source": [
        "Accuracy score for test data"
      ]
    },
    {
      "cell_type": "code",
      "metadata": {
        "colab": {
          "base_uri": "https://localhost:8080/"
        },
        "id": "cisJ6FZQ1B1j",
        "outputId": "4016b8af-f70a-4b22-a676-7f0f1188c732"
      },
      "source": [
        "grid_search.score(Xtest,Ytest)"
      ],
      "execution_count": 33,
      "outputs": [
        {
          "output_type": "execute_result",
          "data": {
            "text/plain": [
              "0.8855154425209963"
            ]
          },
          "metadata": {
            "tags": []
          },
          "execution_count": 33
        }
      ]
    },
    {
      "cell_type": "markdown",
      "metadata": {
        "id": "tunLmmRP1Gbn"
      },
      "source": [
        "Accuracy score for train data"
      ]
    },
    {
      "cell_type": "code",
      "metadata": {
        "colab": {
          "base_uri": "https://localhost:8080/"
        },
        "id": "n3tpvArx1KWs",
        "outputId": "d8b19189-d0e2-46b1-c3cf-2caf9c08545d"
      },
      "source": [
        "grid_search.score(Xtrain,Ytrain)"
      ],
      "execution_count": 35,
      "outputs": [
        {
          "output_type": "execute_result",
          "data": {
            "text/plain": [
              "0.9383603110550259"
            ]
          },
          "metadata": {
            "tags": []
          },
          "execution_count": 35
        }
      ]
    },
    {
      "cell_type": "markdown",
      "metadata": {
        "id": "IQvVEcQe1e3J"
      },
      "source": [
        "Prediction"
      ]
    },
    {
      "cell_type": "code",
      "metadata": {
        "id": "ZKpcNBUlSKob"
      },
      "source": [
        "pred_gred=grid_search.predict(Xtest)"
      ],
      "execution_count": 36,
      "outputs": []
    },
    {
      "cell_type": "markdown",
      "metadata": {
        "id": "drSMTVnV1krh"
      },
      "source": [
        "Model Evaluation"
      ]
    },
    {
      "cell_type": "markdown",
      "metadata": {
        "id": "W_5tu0Gh1nrW"
      },
      "source": [
        "RMSE"
      ]
    },
    {
      "cell_type": "code",
      "metadata": {
        "colab": {
          "base_uri": "https://localhost:8080/"
        },
        "id": "M4YA1-q71tgc",
        "outputId": "f861fdd9-49c1-4298-f78a-30c62818ee7a"
      },
      "source": [
        "Rmse = (np.sqrt(mean_squared_error(Ytest, pred_gred)))\n",
        "print(Rmse)"
      ],
      "execution_count": 37,
      "outputs": [
        {
          "output_type": "stream",
          "text": [
            "3043.1462938198706\n"
          ],
          "name": "stdout"
        }
      ]
    },
    {
      "cell_type": "markdown",
      "metadata": {
        "id": "Ss8xE5sJ1w0K"
      },
      "source": [
        "MSE"
      ]
    },
    {
      "cell_type": "code",
      "metadata": {
        "colab": {
          "base_uri": "https://localhost:8080/"
        },
        "id": "a75E5RJ51zOu",
        "outputId": "692112b4-c826-4525-8d44-30c3bb904f66"
      },
      "source": [
        "metrics.mean_squared_error(Ytest,pred_gred)"
      ],
      "execution_count": 38,
      "outputs": [
        {
          "output_type": "execute_result",
          "data": {
            "text/plain": [
              "9260739.365589615"
            ]
          },
          "metadata": {
            "tags": []
          },
          "execution_count": 38
        }
      ]
    },
    {
      "cell_type": "markdown",
      "metadata": {
        "id": "LvAlhUaa13Iu"
      },
      "source": [
        "MEAN ABSOLUTE ERROR"
      ]
    },
    {
      "cell_type": "code",
      "metadata": {
        "colab": {
          "base_uri": "https://localhost:8080/"
        },
        "id": "gDxqZV1j149H",
        "outputId": "7dedcc02-4aef-432f-b933-29ba4ee027fa"
      },
      "source": [
        "metrics.mean_absolute_error(Ytest,pred_gred)"
      ],
      "execution_count": 39,
      "outputs": [
        {
          "output_type": "execute_result",
          "data": {
            "text/plain": [
              "1016.4324110380335"
            ]
          },
          "metadata": {
            "tags": []
          },
          "execution_count": 39
        }
      ]
    },
    {
      "cell_type": "markdown",
      "metadata": {
        "id": "UFpf29xv19TE"
      },
      "source": [
        "SCATTER PLOT FOR PEDICTED VALUE V/S ACTUAL"
      ]
    },
    {
      "cell_type": "code",
      "metadata": {
        "colab": {
          "base_uri": "https://localhost:8080/",
          "height": 282
        },
        "id": "p3qUyZJG1-7N",
        "outputId": "9b8ff18d-9e40-4ea2-de4b-c23d335034db"
      },
      "source": [
        "import matplotlib.pyplot as plt \n",
        "plt.scatter(Ytest,pred_gred)"
      ],
      "execution_count": 40,
      "outputs": [
        {
          "output_type": "execute_result",
          "data": {
            "text/plain": [
              "<matplotlib.collections.PathCollection at 0x7fcb3343f5d0>"
            ]
          },
          "metadata": {
            "tags": []
          },
          "execution_count": 40
        },
        {
          "output_type": "display_data",
          "data": {
            "image/png": "[encoded data removed]",
            "text/plain": [
              "<Figure size 432x288 with 1 Axes>"
            ]
          },
          "metadata": {
            "tags": [],
            "needs_background": "light"
          }
        }
      ]
    },
    {
      "cell_type": "markdown",
      "metadata": {
        "id": "GIwwQ9w-558G"
      },
      "source": [
        "Model- 5 using Voting Regressor"
      ]
    },
    {
      "cell_type": "code",
      "metadata": {
        "id": "PpxStfUepINH"
      },
      "source": [
        "VOTING REGRESSOR"
      ],
      "execution_count": null,
      "outputs": []
    },
    {
      "cell_type": "code",
      "metadata": {
        "id": "ue489dq58ZZS"
      },
      "source": [
        "from sklearn.datasets import load_boston\n",
        "from sklearn.ensemble import GradientBoostingRegressor\n",
        "from sklearn.ensemble import RandomForestRegressor\n",
        "from sklearn.linear_model import LinearRegression\n",
        "from sklearn.ensemble import VotingRegressor"
      ],
      "execution_count": 179,
      "outputs": []
    },
    {
      "cell_type": "markdown",
      "metadata": {
        "id": "oDZxTEzw6BUa"
      },
      "source": [
        "Building the model"
      ]
    },
    {
      "cell_type": "code",
      "metadata": {
        "id": "QfdNMbiT8joh"
      },
      "source": [
        "reg1 = GradientBoostingRegressor(random_state=1, n_estimators=10)\n",
        "reg2 = RandomForestRegressor(random_state=1, n_estimators=10)\n",
        "reg3 = LinearRegression()\n",
        "Voting_Reg = VotingRegressor(estimators=[('gb', reg1), ('rf', reg2), ('lr', reg3)])"
      ],
      "execution_count": 180,
      "outputs": []
    },
    {
      "cell_type": "markdown",
      "metadata": {
        "id": "y_DppxhP6Dsn"
      },
      "source": [
        "Training the model"
      ]
    },
    {
      "cell_type": "code",
      "metadata": {
        "id": "oPlzY6yL8yQg",
        "colab": {
          "base_uri": "https://localhost:8080/"
        },
        "outputId": "d61d3611-d411-4025-ad3b-9c09dddc3a61"
      },
      "source": [
        "Voting_Reg.fit(Xtrain,Ytrain)"
      ],
      "execution_count": 181,
      "outputs": [
        {
          "output_type": "stream",
          "text": [
            "/usr/local/lib/python3.7/dist-packages/sklearn/ensemble/_voting.py:406: DataConversionWarning: A column-vector y was passed when a 1d array was expected. Please change the shape of y to (n_samples, ), for example using ravel().\n",
            "  y = column_or_1d(y, warn=True)\n"
          ],
          "name": "stderr"
        },
        {
          "output_type": "execute_result",
          "data": {
            "text/plain": [
              "VotingRegressor(estimators=[('gb',\n",
              "                             GradientBoostingRegressor(alpha=0.9, ccp_alpha=0.0,\n",
              "                                                       criterion='friedman_mse',\n",
              "                                                       init=None,\n",
              "                                                       learning_rate=0.1,\n",
              "                                                       loss='ls', max_depth=3,\n",
              "                                                       max_features=None,\n",
              "                                                       max_leaf_nodes=None,\n",
              "                                                       min_impurity_decrease=0.0,\n",
              "                                                       min_impurity_split=None,\n",
              "                                                       min_samples_leaf=1,\n",
              "                                                       min_samples_split=2,\n",
              "                                                       min_weight_fraction_leaf=0.0,\n",
              "                                                       n_estimators=10,\n",
              "                                                       n_iter_no_change=No...\n",
              "                                                   max_leaf_nodes=None,\n",
              "                                                   max_samples=None,\n",
              "                                                   min_impurity_decrease=0.0,\n",
              "                                                   min_impurity_split=None,\n",
              "                                                   min_samples_leaf=1,\n",
              "                                                   min_samples_split=2,\n",
              "                                                   min_weight_fraction_leaf=0.0,\n",
              "                                                   n_estimators=10, n_jobs=None,\n",
              "                                                   oob_score=False,\n",
              "                                                   random_state=1, verbose=0,\n",
              "                                                   warm_start=False)),\n",
              "                            ('lr',\n",
              "                             LinearRegression(copy_X=True, fit_intercept=True,\n",
              "                                              n_jobs=None, normalize=False))],\n",
              "                n_jobs=None, weights=None)"
            ]
          },
          "metadata": {
            "tags": []
          },
          "execution_count": 181
        }
      ]
    },
    {
      "cell_type": "markdown",
      "metadata": {
        "id": "pk-hQwct6TQS"
      },
      "source": [
        "Accuracy Score for test data"
      ]
    },
    {
      "cell_type": "code",
      "metadata": {
        "colab": {
          "base_uri": "https://localhost:8080/"
        },
        "id": "f4mmW7_l6YMt",
        "outputId": "5c0899b7-b23f-4ef1-9599-397786b03542"
      },
      "source": [
        "Voting_Reg.score(Xtest,Ytest)"
      ],
      "execution_count": 182,
      "outputs": [
        {
          "output_type": "execute_result",
          "data": {
            "text/plain": [
              "0.8242730844141404"
            ]
          },
          "metadata": {
            "tags": []
          },
          "execution_count": 182
        }
      ]
    },
    {
      "cell_type": "markdown",
      "metadata": {
        "id": "tBEyOMhj6btH"
      },
      "source": [
        "Accuracy score for train data"
      ]
    },
    {
      "cell_type": "code",
      "metadata": {
        "colab": {
          "base_uri": "https://localhost:8080/"
        },
        "id": "QMsSkSpM6e6M",
        "outputId": "2ea6e071-c362-45d9-8ef7-b9c520c67d85"
      },
      "source": [
        "Voting_Reg.score(Xtrain,Ytrain)"
      ],
      "execution_count": 183,
      "outputs": [
        {
          "output_type": "execute_result",
          "data": {
            "text/plain": [
              "0.8688856204779773"
            ]
          },
          "metadata": {
            "tags": []
          },
          "execution_count": 183
        }
      ]
    },
    {
      "cell_type": "markdown",
      "metadata": {
        "id": "hhM47QY26uTT"
      },
      "source": [
        "Prediction"
      ]
    },
    {
      "cell_type": "code",
      "metadata": {
        "id": "dO3tLA0983JR"
      },
      "source": [
        "Voting_pred=Voting_Reg.predict(Xtest)"
      ],
      "execution_count": 184,
      "outputs": []
    },
    {
      "cell_type": "markdown",
      "metadata": {
        "id": "t1I3Rjm-7kyP"
      },
      "source": [
        "Model Evaluation"
      ]
    },
    {
      "cell_type": "markdown",
      "metadata": {
        "id": "G14eihL07pqZ"
      },
      "source": [
        "RMSE"
      ]
    },
    {
      "cell_type": "code",
      "metadata": {
        "colab": {
          "base_uri": "https://localhost:8080/"
        },
        "id": "gS-LuDqI7rUm",
        "outputId": "3c8f6686-bb28-4ca7-fbd0-ff8b1ae4e351"
      },
      "source": [
        "Rmse = (np.sqrt(mean_squared_error(Ytest, Voting_pred)))\n",
        "print(Rmse)"
      ],
      "execution_count": 185,
      "outputs": [
        {
          "output_type": "stream",
          "text": [
            "3770.235852871796\n"
          ],
          "name": "stdout"
        }
      ]
    },
    {
      "cell_type": "markdown",
      "metadata": {
        "id": "12T5Mkhu7s4i"
      },
      "source": [
        "MSE"
      ]
    },
    {
      "cell_type": "code",
      "metadata": {
        "colab": {
          "base_uri": "https://localhost:8080/"
        },
        "id": "8o5IkUcQ7t7e",
        "outputId": "bca7a475-b690-41ec-c8a9-de6fb2c91054"
      },
      "source": [
        "metrics.mean_squared_error(Ytest,Voting_pred)"
      ],
      "execution_count": 186,
      "outputs": [
        {
          "output_type": "execute_result",
          "data": {
            "text/plain": [
              "14214678.38627992"
            ]
          },
          "metadata": {
            "tags": []
          },
          "execution_count": 186
        }
      ]
    },
    {
      "cell_type": "markdown",
      "metadata": {
        "id": "hIRbg_s17vb7"
      },
      "source": [
        "MEAN ABSOLUTE ERROR"
      ]
    },
    {
      "cell_type": "code",
      "metadata": {
        "colab": {
          "base_uri": "https://localhost:8080/"
        },
        "id": "q2oU80D77wzq",
        "outputId": "6cb7ffa6-2dec-405b-9ac2-3986fa6bd6ff"
      },
      "source": [
        "metrics.mean_absolute_error(Ytest,Voting_pred)"
      ],
      "execution_count": 187,
      "outputs": [
        {
          "output_type": "execute_result",
          "data": {
            "text/plain": [
              "1592.4037876506502"
            ]
          },
          "metadata": {
            "tags": []
          },
          "execution_count": 187
        }
      ]
    },
    {
      "cell_type": "markdown",
      "metadata": {
        "id": "xEXIvyfy-qnY"
      },
      "source": [
        "SCATTER PLOT FOR PEDICTED VALUE V/S ACTUAL"
      ]
    },
    {
      "cell_type": "code",
      "metadata": {
        "colab": {
          "base_uri": "https://localhost:8080/",
          "height": 282
        },
        "id": "JhSgahPP-sGU",
        "outputId": "2c82f566-b38f-4746-969e-efebe3d7856b"
      },
      "source": [
        "import matplotlib.pyplot as plt \n",
        "plt.scatter(Ytest,Voting_pred)"
      ],
      "execution_count": 229,
      "outputs": [
        {
          "output_type": "execute_result",
          "data": {
            "text/plain": [
              "<matplotlib.collections.PathCollection at 0x7fcae1a90150>"
            ]
          },
          "metadata": {
            "tags": []
          },
          "execution_count": 229
        },
        {
          "output_type": "display_data",
          "data": {
            "image/png": "[encoded data removed]",
            "text/plain": [
              "<Figure size 432x288 with 1 Axes>"
            ]
          },
          "metadata": {
            "tags": [],
            "needs_background": "light"
          }
        }
      ]
    },
    {
      "cell_type": "markdown",
      "metadata": {
        "id": "Abwlp6v581jD"
      },
      "source": [
        "Model-6 using Neural Networks"
      ]
    },
    {
      "cell_type": "code",
      "metadata": {
        "id": "zVvSJa4ipBjD"
      },
      "source": [
        "NEURAL NETWORKS"
      ],
      "execution_count": null,
      "outputs": []
    },
    {
      "cell_type": "code",
      "metadata": {
        "id": "Pjp5w8gbO3U5",
        "colab": {
          "base_uri": "https://localhost:8080/"
        },
        "outputId": "4e49ced5-918d-4cff-e9bd-58d88119700b"
      },
      "source": [
        "from tensorflow.python.keras.models import Sequential\n",
        "from tensorflow.python.keras.layers import Dense\n",
        "from tensorflow.python.keras.wrappers.scikit_learn import KerasRegressor\n",
        "import statsmodels.api as sm\n",
        "import statsmodels.formula.api as smf\n",
        "import matplotlib.pyplot as plt\n",
        "import numpy as np\n",
        "import pandas as pd\n",
        "import math\n",
        "from sklearn.linear_model import LogisticRegression\n",
        "from sklearn.model_selection import train_test_split\n",
        "from sklearn.model_selection import cross_val_score\n",
        "from sklearn.model_selection import KFold\n",
        "from sklearn.pipeline import Pipeline\n",
        "from sklearn.preprocessing import MinMaxScaler\n",
        "from sklearn.ensemble import ExtraTreesClassifier\n",
        "from sklearn.metrics import mean_absolute_error\n",
        "from sklearn.metrics import mean_squared_error\n",
        "from sklearn.metrics import r2_score"
      ],
      "execution_count": 65,
      "outputs": [
        {
          "output_type": "stream",
          "text": [
            "/usr/local/lib/python3.7/dist-packages/statsmodels/tools/_testing.py:19: FutureWarning: pandas.util.testing is deprecated. Use the functions in the public API at pandas.testing instead.\n",
            "  import pandas.util.testing as tm\n"
          ],
          "name": "stderr"
        }
      ]
    },
    {
      "cell_type": "code",
      "metadata": {
        "id": "Ua0vBA-kUr38"
      },
      "source": [
        "predictor=New_df.iloc[:,0:4]\r\n",
        "target=New_df.iloc[:,4]"
      ],
      "execution_count": 149,
      "outputs": []
    },
    {
      "cell_type": "code",
      "metadata": {
        "id": "la4W1iQJc5vx"
      },
      "source": [
        "Xtrain,Xtest,Ytrain,Ytest=train_test_split(predictor,target,test_size=0.2,random_state=0)"
      ],
      "execution_count": 150,
      "outputs": []
    },
    {
      "cell_type": "markdown",
      "metadata": {
        "id": "hw_WIO1I9M9f"
      },
      "source": [
        "Building the model"
      ]
    },
    {
      "cell_type": "code",
      "metadata": {
        "id": "ZlzgBhAxO-Rg"
      },
      "source": [
        "#building my model\n",
        "NN=Sequential()\n",
        "\n",
        "NN.add(Dense(50,input_dim=4,activation=\"relu\"))\n",
        "NN.add(Dense(40,activation=\"relu\"))\n",
        "NN.add(Dense(20,activation=\"relu\"))\n",
        "NN.add(Dense(1,kernel_initializer=\"normal\"))\n",
        "NN.compile(loss=\"mean_squared_error\",optimizer=\"adam\",metrics=[\"mse\"])\n"
      ],
      "execution_count": 161,
      "outputs": []
    },
    {
      "cell_type": "markdown",
      "metadata": {
        "id": "c8t0Jcbx9QHU"
      },
      "source": [
        "Training the model"
      ]
    },
    {
      "cell_type": "code",
      "metadata": {
        "id": "U16eE_HrPLub",
        "colab": {
          "base_uri": "https://localhost:8080/"
        },
        "outputId": "a1327570-9a09-4836-d387-7017893a7f29"
      },
      "source": [
        "NN.fit(Xtrain,Ytrain,epochs=10)\n"
      ],
      "execution_count": 162,
      "outputs": [
        {
          "output_type": "stream",
          "text": [
            "Epoch 1/10\n",
            "561/561 [==============================] - 2s 2ms/step - loss: 34379152.2242 - mse: 34379152.2242\n",
            "Epoch 2/10\n",
            "561/561 [==============================] - 1s 2ms/step - loss: 16270015.6410 - mse: 16270015.6410\n",
            "Epoch 3/10\n",
            "561/561 [==============================] - 1s 2ms/step - loss: 16647742.9813 - mse: 16647742.9813\n",
            "Epoch 4/10\n",
            "561/561 [==============================] - 1s 2ms/step - loss: 15120713.6661 - mse: 15120713.6661\n",
            "Epoch 5/10\n",
            "561/561 [==============================] - 1s 2ms/step - loss: 15872565.7696 - mse: 15872565.7696\n",
            "Epoch 6/10\n",
            "561/561 [==============================] - 1s 2ms/step - loss: 17383963.3292 - mse: 17383963.3292\n",
            "Epoch 7/10\n",
            "561/561 [==============================] - 1s 2ms/step - loss: 15267975.7171 - mse: 15267975.7171\n",
            "Epoch 8/10\n",
            "561/561 [==============================] - 1s 2ms/step - loss: 18040619.4199 - mse: 18040619.4199\n",
            "Epoch 9/10\n",
            "561/561 [==============================] - 1s 2ms/step - loss: 17900864.6406 - mse: 17900864.6406\n",
            "Epoch 10/10\n",
            "561/561 [==============================] - 1s 2ms/step - loss: 17173079.5592 - mse: 17173079.5592\n"
          ],
          "name": "stdout"
        },
        {
          "output_type": "execute_result",
          "data": {
            "text/plain": [
              "<tensorflow.python.keras.callbacks.History at 0x7fcacce37090>"
            ]
          },
          "metadata": {
            "tags": []
          },
          "execution_count": 162
        }
      ]
    },
    {
      "cell_type": "markdown",
      "metadata": {
        "id": "X54loruU99qT"
      },
      "source": [
        "Prediction"
      ]
    },
    {
      "cell_type": "code",
      "metadata": {
        "id": "hbC-cZGtPe9H"
      },
      "source": [
        "NN_pred=NN.predict(Xtest)\n",
        "\n"
      ],
      "execution_count": 163,
      "outputs": []
    },
    {
      "cell_type": "markdown",
      "metadata": {
        "id": "x8F9PUbtvM92"
      },
      "source": [
        "Accuracy score"
      ]
    },
    {
      "cell_type": "code",
      "metadata": {
        "colab": {
          "base_uri": "https://localhost:8080/"
        },
        "id": "_Uygp0O2vBB5",
        "outputId": "7f62c40e-0629-4d55-d918-f76a52bd1a55"
      },
      "source": [
        "R2_value=r2_score(Ytest,NN_pred)\r\n",
        "print(R2_value)"
      ],
      "execution_count": 244,
      "outputs": [
        {
          "output_type": "stream",
          "text": [
            "0.764987155150038\n"
          ],
          "name": "stdout"
        }
      ]
    },
    {
      "cell_type": "code",
      "metadata": {
        "id": "_Era49D5i7F-"
      },
      "source": [
        "pred_NN=pd.Series([i[0] for i in NN_pred])\r\n"
      ],
      "execution_count": 168,
      "outputs": []
    },
    {
      "cell_type": "markdown",
      "metadata": {
        "id": "6OxORnuAjGjc"
      },
      "source": [
        "correlative coefficent"
      ]
    },
    {
      "cell_type": "code",
      "metadata": {
        "colab": {
          "base_uri": "https://localhost:8080/"
        },
        "id": "HSRfLoy2iRks",
        "outputId": "e8e0b325-bfcd-46a7-ca17-51646a323654"
      },
      "source": [
        "np.corrcoef(pred_NN,Ytest)"
      ],
      "execution_count": 169,
      "outputs": [
        {
          "output_type": "execute_result",
          "data": {
            "text/plain": [
              "array([[1.        , 0.89244082],\n",
              "       [0.89244082, 1.        ]])"
            ]
          },
          "metadata": {
            "tags": []
          },
          "execution_count": 169
        }
      ]
    },
    {
      "cell_type": "markdown",
      "metadata": {
        "id": "sz0Jhr-g-F_H"
      },
      "source": [
        "Model Evaluation"
      ]
    },
    {
      "cell_type": "markdown",
      "metadata": {
        "id": "qz_1eEfp-KIP"
      },
      "source": [
        "RMSE"
      ]
    },
    {
      "cell_type": "code",
      "metadata": {
        "colab": {
          "base_uri": "https://localhost:8080/"
        },
        "id": "C_MKCAtN-MUT",
        "outputId": "66c40735-116e-4430-d8fe-7a193f06fecb"
      },
      "source": [
        "Rmse = (np.sqrt(mean_squared_error(Ytest, NN_pred)))\n",
        "print(Rmse)"
      ],
      "execution_count": 164,
      "outputs": [
        {
          "output_type": "stream",
          "text": [
            "4360.087206783463\n"
          ],
          "name": "stdout"
        }
      ]
    },
    {
      "cell_type": "markdown",
      "metadata": {
        "id": "Jlak-XUl-NyN"
      },
      "source": [
        "MSE"
      ]
    },
    {
      "cell_type": "code",
      "metadata": {
        "colab": {
          "base_uri": "https://localhost:8080/"
        },
        "id": "z8Gmhz8A-Q6Z",
        "outputId": "5c1284e8-756e-421b-d8b0-600b0a344d25"
      },
      "source": [
        "metrics.mean_squared_error(Ytest,NN_pred)"
      ],
      "execution_count": 165,
      "outputs": [
        {
          "output_type": "execute_result",
          "data": {
            "text/plain": [
              "19010360.450756826"
            ]
          },
          "metadata": {
            "tags": []
          },
          "execution_count": 165
        }
      ]
    },
    {
      "cell_type": "markdown",
      "metadata": {
        "id": "7K9UFd0U-Sa_"
      },
      "source": [
        "MEAN ABSOLUTE ERROR"
      ]
    },
    {
      "cell_type": "code",
      "metadata": {
        "colab": {
          "base_uri": "https://localhost:8080/"
        },
        "id": "oP9zlvBL-T8F",
        "outputId": "b432d842-7258-4ded-f3ad-d2af89ffd3d0"
      },
      "source": [
        "metrics.mean_absolute_error(Ytest,NN_pred)"
      ],
      "execution_count": 166,
      "outputs": [
        {
          "output_type": "execute_result",
          "data": {
            "text/plain": [
              "1748.368999184918"
            ]
          },
          "metadata": {
            "tags": []
          },
          "execution_count": 166
        }
      ]
    },
    {
      "cell_type": "markdown",
      "metadata": {
        "id": "AYRGThwY-jaI"
      },
      "source": [
        "SCATTER PLOT FOR PEDICTED VALUE V/S ACTUAL"
      ]
    },
    {
      "cell_type": "code",
      "metadata": {
        "colab": {
          "base_uri": "https://localhost:8080/",
          "height": 284
        },
        "id": "t7_dL71Q-k0H",
        "outputId": "da620d80-af9a-491b-df35-59495294f8b8"
      },
      "source": [
        "import matplotlib.pyplot as plt \n",
        "plt.scatter(Ytest,NN_pred)"
      ],
      "execution_count": null,
      "outputs": [
        {
          "output_type": "execute_result",
          "data": {
            "text/plain": [
              "<matplotlib.collections.PathCollection at 0x7fd38065ec88>"
            ]
          },
          "metadata": {
            "tags": []
          },
          "execution_count": 37
        },
        {
          "output_type": "display_data",
          "data": {
            "image/png": "[encoded data removed]",
            "text/plain": [
              "<Figure size 432x288 with 1 Axes>"
            ]
          },
          "metadata": {
            "tags": [],
            "needs_background": "light"
          }
        }
      ]
    },
    {
      "cell_type": "code",
      "metadata": {
        "id": "OBuYx9eyjZg6"
      },
      "source": [
        ""
      ],
      "execution_count": null,
      "outputs": []
    },
    {
      "cell_type": "code",
      "metadata": {
        "id": "tm5Sxv64jN2U"
      },
      "source": [
        "predictor=New_df.iloc[:,0:4]\r\n",
        "target=pd.DataFrame(New_df.iloc[:,4])"
      ],
      "execution_count": 170,
      "outputs": []
    },
    {
      "cell_type": "code",
      "metadata": {
        "id": "gS4SM8Y9ji6I"
      },
      "source": [
        "Xtrain,Xtest,Ytrain,Ytest=train_test_split(predictor,target,test_size=0.2,random_state=0)"
      ],
      "execution_count": 171,
      "outputs": []
    },
    {
      "cell_type": "markdown",
      "metadata": {
        "id": "ucKz4-Fc--D1"
      },
      "source": [
        "Model-7 using GridSearchCv with Gradien Boosting."
      ]
    },
    {
      "cell_type": "markdown",
      "metadata": {
        "id": "Qr_knGIeorJF"
      },
      "source": [
        "GRADIEN BOOSTING WITH GRID SEARCH CV\n",
        "\n",
        "\n"
      ]
    },
    {
      "cell_type": "code",
      "metadata": {
        "id": "_KcQZC4GtwjH"
      },
      "source": [
        "from sklearn.ensemble import  GradientBoostingRegressor\n",
        "from sklearn.model_selection import GridSearchCV"
      ],
      "execution_count": 76,
      "outputs": []
    },
    {
      "cell_type": "markdown",
      "metadata": {
        "id": "iWjLKvbS_S7N"
      },
      "source": [
        "Building the model with Hyper parameter tuning"
      ]
    },
    {
      "cell_type": "code",
      "metadata": {
        "id": "VeKyMzKBx9C4"
      },
      "source": [
        "params = {'n_estimators': 500, 'max_depth': 4, 'min_samples_split': 2,\n",
        "          'learning_rate': 0.01, 'loss': 'ls'}\n",
        "GB = GradientBoostingRegressor(**params)"
      ],
      "execution_count": 189,
      "outputs": []
    },
    {
      "cell_type": "markdown",
      "metadata": {
        "id": "ggbMAZgT_XrP"
      },
      "source": [
        "Training the model"
      ]
    },
    {
      "cell_type": "code",
      "metadata": {
        "id": "KqBQj5Y3t-xQ",
        "colab": {
          "base_uri": "https://localhost:8080/"
        },
        "outputId": "2189bdab-6458-4a17-89cd-3db07e8cce83"
      },
      "source": [
        "GB.fit(Xtrain,Ytrain)"
      ],
      "execution_count": 190,
      "outputs": [
        {
          "output_type": "stream",
          "text": [
            "/usr/local/lib/python3.7/dist-packages/sklearn/ensemble/_gb.py:1454: DataConversionWarning: A column-vector y was passed when a 1d array was expected. Please change the shape of y to (n_samples, ), for example using ravel().\n",
            "  y = column_or_1d(y, warn=True)\n"
          ],
          "name": "stderr"
        },
        {
          "output_type": "execute_result",
          "data": {
            "text/plain": [
              "GradientBoostingRegressor(alpha=0.9, ccp_alpha=0.0, criterion='friedman_mse',\n",
              "                          init=None, learning_rate=0.01, loss='ls', max_depth=4,\n",
              "                          max_features=None, max_leaf_nodes=None,\n",
              "                          min_impurity_decrease=0.0, min_impurity_split=None,\n",
              "                          min_samples_leaf=1, min_samples_split=2,\n",
              "                          min_weight_fraction_leaf=0.0, n_estimators=500,\n",
              "                          n_iter_no_change=None, presort='deprecated',\n",
              "                          random_state=None, subsample=1.0, tol=0.0001,\n",
              "                          validation_fraction=0.1, verbose=0, warm_start=False)"
            ]
          },
          "metadata": {
            "tags": []
          },
          "execution_count": 190
        }
      ]
    },
    {
      "cell_type": "markdown",
      "metadata": {
        "id": "rw1Lx-Ck_pW2"
      },
      "source": [
        "Accuracy score for test data"
      ]
    },
    {
      "cell_type": "code",
      "metadata": {
        "colab": {
          "base_uri": "https://localhost:8080/"
        },
        "id": "u2kMG39y_s_9",
        "outputId": "569ed512-b4f2-49d6-8ed2-4302491783e2"
      },
      "source": [
        "GB.score(Xtest,Ytest)"
      ],
      "execution_count": 191,
      "outputs": [
        {
          "output_type": "execute_result",
          "data": {
            "text/plain": [
              "0.8519039636478491"
            ]
          },
          "metadata": {
            "tags": []
          },
          "execution_count": 191
        }
      ]
    },
    {
      "cell_type": "markdown",
      "metadata": {
        "id": "2VyZF7l7_yFt"
      },
      "source": [
        "Accuracy score for Train data"
      ]
    },
    {
      "cell_type": "code",
      "metadata": {
        "colab": {
          "base_uri": "https://localhost:8080/"
        },
        "id": "qvTa5usM_3iN",
        "outputId": "53363605-97d4-4599-ea19-631552201514"
      },
      "source": [
        "GB.score(Xtrain,Ytrain)"
      ],
      "execution_count": 192,
      "outputs": [
        {
          "output_type": "execute_result",
          "data": {
            "text/plain": [
              "0.8722197664632058"
            ]
          },
          "metadata": {
            "tags": []
          },
          "execution_count": 192
        }
      ]
    },
    {
      "cell_type": "markdown",
      "metadata": {
        "id": "o3FCZZCjABIR"
      },
      "source": [
        "Prediction"
      ]
    },
    {
      "cell_type": "code",
      "metadata": {
        "id": "owCj3JeduGoO"
      },
      "source": [
        "GB_pred=GB.predict(Xtest)"
      ],
      "execution_count": 193,
      "outputs": []
    },
    {
      "cell_type": "markdown",
      "metadata": {
        "id": "_1_4rr4_AF4A"
      },
      "source": [
        "Model Evaluation"
      ]
    },
    {
      "cell_type": "markdown",
      "metadata": {
        "id": "bHqL5oRGAORD"
      },
      "source": [
        "RMSE"
      ]
    },
    {
      "cell_type": "code",
      "metadata": {
        "colab": {
          "base_uri": "https://localhost:8080/"
        },
        "id": "sELcu9zXAPbK",
        "outputId": "138ef6ef-39e3-423d-a4ac-61a6c67f787c"
      },
      "source": [
        "Rmse = (np.sqrt(mean_squared_error(Ytest, GB_pred)))\n",
        "print(Rmse)"
      ],
      "execution_count": 194,
      "outputs": [
        {
          "output_type": "stream",
          "text": [
            "3461.155357627748\n"
          ],
          "name": "stdout"
        }
      ]
    },
    {
      "cell_type": "markdown",
      "metadata": {
        "id": "Bskp97zcAQ93"
      },
      "source": [
        "MSE"
      ]
    },
    {
      "cell_type": "code",
      "metadata": {
        "colab": {
          "base_uri": "https://localhost:8080/"
        },
        "id": "V4JPlIlqASR5",
        "outputId": "699e9411-cb78-410e-8fa8-1b61bb90b752"
      },
      "source": [
        "metrics.mean_squared_error(Ytest,GB_pred)"
      ],
      "execution_count": 195,
      "outputs": [
        {
          "output_type": "execute_result",
          "data": {
            "text/plain": [
              "11979596.409635263"
            ]
          },
          "metadata": {
            "tags": []
          },
          "execution_count": 195
        }
      ]
    },
    {
      "cell_type": "markdown",
      "metadata": {
        "id": "2hHQYSvvATzg"
      },
      "source": [
        "MEAN ABSOLUTE ERROR"
      ]
    },
    {
      "cell_type": "code",
      "metadata": {
        "colab": {
          "base_uri": "https://localhost:8080/"
        },
        "id": "ZR9v_UsbAVfq",
        "outputId": "b539508b-3b17-489c-eb5f-2f448be3e2a6"
      },
      "source": [
        "metrics.mean_absolute_error(Ytest,GB_pred)"
      ],
      "execution_count": 196,
      "outputs": [
        {
          "output_type": "execute_result",
          "data": {
            "text/plain": [
              "1313.3835811412578"
            ]
          },
          "metadata": {
            "tags": []
          },
          "execution_count": 196
        }
      ]
    },
    {
      "cell_type": "markdown",
      "metadata": {
        "id": "EVgrHWAqAW2p"
      },
      "source": [
        "SCATTER PLOT FOR PEDICTED VALUE V/S ACTUAL"
      ]
    },
    {
      "cell_type": "code",
      "metadata": {
        "colab": {
          "base_uri": "https://localhost:8080/",
          "height": 282
        },
        "id": "xBR4YpihAaWf",
        "outputId": "d5981aa6-ed10-4ce0-d664-1e8ca7126ac5"
      },
      "source": [
        "import matplotlib.pyplot as plt \n",
        "plt.scatter(Ytest,GB_pred)"
      ],
      "execution_count": 197,
      "outputs": [
        {
          "output_type": "execute_result",
          "data": {
            "text/plain": [
              "<matplotlib.collections.PathCollection at 0x7fcae1a30c10>"
            ]
          },
          "metadata": {
            "tags": []
          },
          "execution_count": 197
        },
        {
          "output_type": "display_data",
          "data": {
            "image/png": "[encoded data removed]",
            "text/plain": [
              "<Figure size 432x288 with 1 Axes>"
            ]
          },
          "metadata": {
            "tags": [],
            "needs_background": "light"
          }
        }
      ]
    },
    {
      "cell_type": "markdown",
      "metadata": {
        "id": "EOkJPTPyAo3D"
      },
      "source": [
        "Model- 8 using XGBoost"
      ]
    },
    {
      "cell_type": "markdown",
      "metadata": {
        "id": "tFGZCRvQov2N"
      },
      "source": [
        "XTREME GRADIENT BOOSTING"
      ]
    },
    {
      "cell_type": "code",
      "metadata": {
        "id": "woCkzzJYQXno"
      },
      "source": [
        "from xgboost import XGBRegressor"
      ],
      "execution_count": 201,
      "outputs": []
    },
    {
      "cell_type": "markdown",
      "metadata": {
        "id": "tm-WKI5pAxlB"
      },
      "source": [
        "Building the model"
      ]
    },
    {
      "cell_type": "code",
      "metadata": {
        "id": "q19XXRpDQfDA"
      },
      "source": [
        "model_XG=XGBRegressor(n_estimators=1000,learning_rate=0.05)"
      ],
      "execution_count": 202,
      "outputs": []
    },
    {
      "cell_type": "markdown",
      "metadata": {
        "id": "bjGhiRnIA4OX"
      },
      "source": [
        "Training the model"
      ]
    },
    {
      "cell_type": "code",
      "metadata": {
        "colab": {
          "base_uri": "https://localhost:8080/"
        },
        "id": "E9cWihpkQpoz",
        "outputId": "8d806048-97df-462f-9e14-69a6621db181"
      },
      "source": [
        "model_XG.fit(Xtrain,Ytrain)"
      ],
      "execution_count": 203,
      "outputs": [
        {
          "output_type": "stream",
          "text": [
            "[09:31:56] WARNING: /workspace/src/objective/regression_obj.cu:152: reg:linear is now deprecated in favor of reg:squarederror.\n"
          ],
          "name": "stdout"
        },
        {
          "output_type": "execute_result",
          "data": {
            "text/plain": [
              "XGBRegressor(base_score=0.5, booster='gbtree', colsample_bylevel=1,\n",
              "             colsample_bynode=1, colsample_bytree=1, gamma=0,\n",
              "             importance_type='gain', learning_rate=0.05, max_delta_step=0,\n",
              "             max_depth=3, min_child_weight=1, missing=None, n_estimators=1000,\n",
              "             n_jobs=1, nthread=None, objective='reg:linear', random_state=0,\n",
              "             reg_alpha=0, reg_lambda=1, scale_pos_weight=1, seed=None,\n",
              "             silent=None, subsample=1, verbosity=1)"
            ]
          },
          "metadata": {
            "tags": []
          },
          "execution_count": 203
        }
      ]
    },
    {
      "cell_type": "markdown",
      "metadata": {
        "id": "7Mxzy6DXB8rH"
      },
      "source": [
        "Prediction"
      ]
    },
    {
      "cell_type": "code",
      "metadata": {
        "id": "SiwT3wbI-w3J"
      },
      "source": [
        "model_XGB_pred = model_XG.predict(Xtest)\n"
      ],
      "execution_count": 230,
      "outputs": []
    },
    {
      "cell_type": "markdown",
      "metadata": {
        "id": "ifyGkn8dBKSL"
      },
      "source": [
        "Accuracy score for Test data"
      ]
    },
    {
      "cell_type": "code",
      "metadata": {
        "id": "mLUUvPQs_Bjl",
        "colab": {
          "base_uri": "https://localhost:8080/"
        },
        "outputId": "9551815e-5bac-4373-df81-bb77db4fd7a7"
      },
      "source": [
        "model_XG.score(Xtest,Ytest)"
      ],
      "execution_count": 137,
      "outputs": [
        {
          "output_type": "execute_result",
          "data": {
            "text/plain": [
              "0.8569040171505691"
            ]
          },
          "metadata": {
            "tags": []
          },
          "execution_count": 137
        }
      ]
    },
    {
      "cell_type": "markdown",
      "metadata": {
        "id": "WxVq8og3RLcI"
      },
      "source": [
        "Accuracy score for test data"
      ]
    },
    {
      "cell_type": "code",
      "metadata": {
        "colab": {
          "base_uri": "https://localhost:8080/"
        },
        "id": "XwBoP79WROuZ",
        "outputId": "75d5ffb6-f9b4-41d3-a1cc-b88caeda2bb0"
      },
      "source": [
        "model_XG.score(Xtrain,Ytrain)"
      ],
      "execution_count": 138,
      "outputs": [
        {
          "output_type": "execute_result",
          "data": {
            "text/plain": [
              "0.9999126064668938"
            ]
          },
          "metadata": {
            "tags": []
          },
          "execution_count": 138
        }
      ]
    },
    {
      "cell_type": "markdown",
      "metadata": {
        "id": "UFX9ClrNCi3U"
      },
      "source": [
        "Model Evaluation"
      ]
    },
    {
      "cell_type": "markdown",
      "metadata": {
        "id": "uzBQq79nCxVM"
      },
      "source": [
        "RMSE"
      ]
    },
    {
      "cell_type": "code",
      "metadata": {
        "colab": {
          "base_uri": "https://localhost:8080/"
        },
        "id": "9kRlYTUaCzuP",
        "outputId": "c7c57062-226d-4e90-a206-faf23f96bb07"
      },
      "source": [
        "Rmse = (np.sqrt(mean_squared_error(Ytest, model_XGB_pred)))\n",
        "print(Rmse)"
      ],
      "execution_count": 231,
      "outputs": [
        {
          "output_type": "stream",
          "text": [
            "3320.597955231594\n"
          ],
          "name": "stdout"
        }
      ]
    },
    {
      "cell_type": "markdown",
      "metadata": {
        "id": "4sGX8jYKC09-"
      },
      "source": [
        "MSE"
      ]
    },
    {
      "cell_type": "code",
      "metadata": {
        "colab": {
          "base_uri": "https://localhost:8080/"
        },
        "id": "yOx0YsTwC2SR",
        "outputId": "9a1ce2b2-06ce-4c1f-bea6-f7e74ac62f34"
      },
      "source": [
        "metrics.mean_squared_error(Ytest,model_XGB_pred)"
      ],
      "execution_count": 232,
      "outputs": [
        {
          "output_type": "execute_result",
          "data": {
            "text/plain": [
              "11026370.780288244"
            ]
          },
          "metadata": {
            "tags": []
          },
          "execution_count": 232
        }
      ]
    },
    {
      "cell_type": "markdown",
      "metadata": {
        "id": "4BDLyuNMC3vq"
      },
      "source": [
        "MEAN ABSOLUTE ERROR"
      ]
    },
    {
      "cell_type": "code",
      "metadata": {
        "colab": {
          "base_uri": "https://localhost:8080/"
        },
        "id": "ZdqKXmr4C5KQ",
        "outputId": "292d9bd3-9e7c-4fce-caf6-3f7757cc32e9"
      },
      "source": [
        "metrics.mean_absolute_error(Ytest,model_XGB_pred)"
      ],
      "execution_count": 233,
      "outputs": [
        {
          "output_type": "execute_result",
          "data": {
            "text/plain": [
              "1201.9043041283287"
            ]
          },
          "metadata": {
            "tags": []
          },
          "execution_count": 233
        }
      ]
    },
    {
      "cell_type": "markdown",
      "metadata": {
        "id": "HCAxG4bKDBdp"
      },
      "source": [
        "SCATTER PLOT FOR PEDICTED VALUE V/S ACTUAL"
      ]
    },
    {
      "cell_type": "code",
      "metadata": {
        "colab": {
          "base_uri": "https://localhost:8080/",
          "height": 282
        },
        "id": "GxuhH5tJDC4A",
        "outputId": "69305ed5-768c-4ddc-f613-14977ee59258"
      },
      "source": [
        "import matplotlib.pyplot as plt \n",
        "plt.scatter(Ytest,model_XGB_pred)"
      ],
      "execution_count": 234,
      "outputs": [
        {
          "output_type": "execute_result",
          "data": {
            "text/plain": [
              "<matplotlib.collections.PathCollection at 0x7fcac8307a50>"
            ]
          },
          "metadata": {
            "tags": []
          },
          "execution_count": 234
        },
        {
          "output_type": "display_data",
          "data": {
            "image/png": "[encoded data removed]",
            "text/plain": [
              "<Figure size 432x288 with 1 Axes>"
            ]
          },
          "metadata": {
            "tags": [],
            "needs_background": "light"
          }
        }
      ]
    },
    {
      "cell_type": "markdown",
      "metadata": {
        "id": "Pw4IHfwoDyUg"
      },
      "source": [
        "Model- 9 using LGBoost."
      ]
    },
    {
      "cell_type": "markdown",
      "metadata": {
        "id": "okeQj3O0o03Q"
      },
      "source": [
        "LIGHT GRADIENT BOOSTING"
      ]
    },
    {
      "cell_type": "code",
      "metadata": {
        "id": "LATLQqN-_NAc"
      },
      "source": [
        "import lightgbm as lgb\n",
        "from sklearn.metrics import mean_squared_log_error\n"
      ],
      "execution_count": 207,
      "outputs": []
    },
    {
      "cell_type": "markdown",
      "metadata": {
        "id": "5rp4oz1gD6Hz"
      },
      "source": [
        "Hyper parameter tuning"
      ]
    },
    {
      "cell_type": "code",
      "metadata": {
        "id": "4sdk7bXfODAl"
      },
      "source": [
        "hyper_params = {\n",
        "    'task': 'train',\n",
        "    'boosting_type': 'gbdt',\n",
        "    'objective': 'regression',\n",
        "    'metric': ['l2', 'auc'],\n",
        "    'learning_rate': 0.005,\n",
        "    'feature_fraction': 0.9,\n",
        "    'bagging_fraction': 0.7,\n",
        "    'bagging_freq': 10,\n",
        "    'verbose': 0,\n",
        "    \"max_depth\": 8,\n",
        "    \"num_leaves\": 128,  \n",
        "    \"max_bin\": 512,\n",
        "    \"num_iterations\": 100000,\n",
        "    \"n_estimators\": 1000\n",
        "}"
      ],
      "execution_count": 208,
      "outputs": []
    },
    {
      "cell_type": "markdown",
      "metadata": {
        "id": "QKmwPLx2D_Pt"
      },
      "source": [
        "Building the model"
      ]
    },
    {
      "cell_type": "code",
      "metadata": {
        "id": "__byKUrzOZKJ"
      },
      "source": [
        "lgb = lgb.LGBMRegressor(**hyper_params)\n"
      ],
      "execution_count": 209,
      "outputs": []
    },
    {
      "cell_type": "markdown",
      "metadata": {
        "id": "nbiL7J9WEDBR"
      },
      "source": [
        "Training the model"
      ]
    },
    {
      "cell_type": "code",
      "metadata": {
        "id": "CS1EEW8POi29",
        "colab": {
          "base_uri": "https://localhost:8080/"
        },
        "outputId": "e9548519-4475-4fbe-d7ff-1f4aeba9c7e6"
      },
      "source": [
        "lgb.fit(Xtrain, Ytrain)"
      ],
      "execution_count": 210,
      "outputs": [
        {
          "output_type": "stream",
          "text": [
            "/usr/local/lib/python3.7/dist-packages/lightgbm/engine.py:118: UserWarning: Found `num_iterations` in params. Will use it instead of argument\n",
            "  warnings.warn(\"Found `{}` in params. Will use it instead of argument\".format(alias))\n"
          ],
          "name": "stderr"
        },
        {
          "output_type": "execute_result",
          "data": {
            "text/plain": [
              "LGBMRegressor(bagging_fraction=0.7, bagging_freq=10, boosting_type='gbdt',\n",
              "              class_weight=None, colsample_bytree=1.0, feature_fraction=0.9,\n",
              "              importance_type='split', learning_rate=0.005, max_bin=512,\n",
              "              max_depth=8, metric=['l2', 'auc'], min_child_samples=20,\n",
              "              min_child_weight=0.001, min_split_gain=0.0, n_estimators=1000,\n",
              "              n_jobs=-1, num_iterations=100000, num_leaves=128,\n",
              "              objective='regression', random_state=None, reg_alpha=0.0,\n",
              "              reg_lambda=0.0, silent=True, subsample=1.0,\n",
              "              subsample_for_bin=200000, subsample_freq=0, task='train',\n",
              "              verbose=0)"
            ]
          },
          "metadata": {
            "tags": []
          },
          "execution_count": 210
        }
      ]
    },
    {
      "cell_type": "markdown",
      "metadata": {
        "id": "iVeuAOSLEWU9"
      },
      "source": [
        "Accuracy score for test data"
      ]
    },
    {
      "cell_type": "code",
      "metadata": {
        "colab": {
          "base_uri": "https://localhost:8080/"
        },
        "id": "74aSqCCdEblU",
        "outputId": "00bfbe5f-12ce-4140-e759-fe095ea90e59"
      },
      "source": [
        "lgb.score(Xtest,Ytest)"
      ],
      "execution_count": 211,
      "outputs": [
        {
          "output_type": "execute_result",
          "data": {
            "text/plain": [
              "0.8991406918030839"
            ]
          },
          "metadata": {
            "tags": []
          },
          "execution_count": 211
        }
      ]
    },
    {
      "cell_type": "markdown",
      "metadata": {
        "id": "Q1RiylGvEfDj"
      },
      "source": [
        "Accuracy score for  train data"
      ]
    },
    {
      "cell_type": "code",
      "metadata": {
        "colab": {
          "base_uri": "https://localhost:8080/"
        },
        "id": "gDw-4ho9EpBp",
        "outputId": "8e534101-a480-4ed3-bcef-967dba832370"
      },
      "source": [
        "lgb.score(Xtrain,Ytrain)"
      ],
      "execution_count": 212,
      "outputs": [
        {
          "output_type": "execute_result",
          "data": {
            "text/plain": [
              "0.9932548948951484"
            ]
          },
          "metadata": {
            "tags": []
          },
          "execution_count": 212
        }
      ]
    },
    {
      "cell_type": "markdown",
      "metadata": {
        "id": "gIZusLe1EvTM"
      },
      "source": [
        "Prediction"
      ]
    },
    {
      "cell_type": "code",
      "metadata": {
        "id": "m82TxfxzQF3b"
      },
      "source": [
        "Lgb_pred=lgb.predict(Xtest)"
      ],
      "execution_count": 213,
      "outputs": []
    },
    {
      "cell_type": "markdown",
      "metadata": {
        "id": "eW4IXjKvE1O7"
      },
      "source": [
        "Model Evaluation"
      ]
    },
    {
      "cell_type": "markdown",
      "metadata": {
        "id": "QkesRl1fE59f"
      },
      "source": [
        "RMSE"
      ]
    },
    {
      "cell_type": "code",
      "metadata": {
        "colab": {
          "base_uri": "https://localhost:8080/"
        },
        "id": "RSjG17D8E7ah",
        "outputId": "7e9290a4-e844-4756-857d-002a7d94dfd3"
      },
      "source": [
        "Rmse = (np.sqrt(mean_squared_error(Ytest, Lgb_pred)))\n",
        "print(Rmse)"
      ],
      "execution_count": 214,
      "outputs": [
        {
          "output_type": "stream",
          "text": [
            "2856.3233381712075\n"
          ],
          "name": "stdout"
        }
      ]
    },
    {
      "cell_type": "markdown",
      "metadata": {
        "id": "zRBjw4FzE9GE"
      },
      "source": [
        "MSE"
      ]
    },
    {
      "cell_type": "code",
      "metadata": {
        "colab": {
          "base_uri": "https://localhost:8080/"
        },
        "id": "xpoE7IYvE-1Y",
        "outputId": "5a643408-8a20-4912-e9d5-e93e9a32c5a6"
      },
      "source": [
        "metrics.mean_squared_error(Ytest,Lgb_pred)"
      ],
      "execution_count": 215,
      "outputs": [
        {
          "output_type": "execute_result",
          "data": {
            "text/plain": [
              "8158583.012181511"
            ]
          },
          "metadata": {
            "tags": []
          },
          "execution_count": 215
        }
      ]
    },
    {
      "cell_type": "markdown",
      "metadata": {
        "id": "bIxyXdA8FAR8"
      },
      "source": [
        "MEAN ABSOLUTE ERROR"
      ]
    },
    {
      "cell_type": "code",
      "metadata": {
        "colab": {
          "base_uri": "https://localhost:8080/"
        },
        "id": "XEavNFOvFByJ",
        "outputId": "da6f38d1-ab6c-4c8d-85fa-77d9a5b0836a"
      },
      "source": [
        "metrics.mean_absolute_error(Ytest,Lgb_pred)"
      ],
      "execution_count": 216,
      "outputs": [
        {
          "output_type": "execute_result",
          "data": {
            "text/plain": [
              "1122.4941593670724"
            ]
          },
          "metadata": {
            "tags": []
          },
          "execution_count": 216
        }
      ]
    },
    {
      "cell_type": "markdown",
      "metadata": {
        "id": "v0OM6MQ-FDQ0"
      },
      "source": [
        "SCATTER PLOT FOR PEDICTED VALUE V/S ACTUAL"
      ]
    },
    {
      "cell_type": "code",
      "metadata": {
        "colab": {
          "base_uri": "https://localhost:8080/",
          "height": 282
        },
        "id": "-VmTyiESFEwJ",
        "outputId": "7127d5a2-525a-4b05-bc50-480183ed0dfe"
      },
      "source": [
        "import matplotlib.pyplot as plt \n",
        "plt.scatter(Ytest,Lgb_pred)"
      ],
      "execution_count": 217,
      "outputs": [
        {
          "output_type": "execute_result",
          "data": {
            "text/plain": [
              "<matplotlib.collections.PathCollection at 0x7fcae1d087d0>"
            ]
          },
          "metadata": {
            "tags": []
          },
          "execution_count": 217
        },
        {
          "output_type": "display_data",
          "data": {
            "image/png": "[encoded data removed]",
            "text/plain": [
              "<Figure size 432x288 with 1 Axes>"
            ]
          },
          "metadata": {
            "tags": [],
            "needs_background": "light"
          }
        }
      ]
    },
    {
      "cell_type": "markdown",
      "metadata": {
        "id": "9hb_NB4QuBHa"
      },
      "source": [
        "Model- 10 using Linear Regression"
      ]
    },
    {
      "cell_type": "code",
      "metadata": {
        "id": "AfW21lG-tZv_"
      },
      "source": [
        "from sklearn.linear_model import LinearRegression\r\n",
        "\r\n",
        "# Creating an object of Linear Regression\r\n",
        "Ln = LinearRegression()"
      ],
      "execution_count": 235,
      "outputs": []
    },
    {
      "cell_type": "markdown",
      "metadata": {
        "id": "op-FDXRGuHzf"
      },
      "source": [
        "Training the model"
      ]
    },
    {
      "cell_type": "code",
      "metadata": {
        "colab": {
          "base_uri": "https://localhost:8080/"
        },
        "id": "Cv-NjwEFtwsb",
        "outputId": "6f205c26-3bd4-49aa-8f5a-6c65260186db"
      },
      "source": [
        "Ln.fit(Xtrain,Ytrain)"
      ],
      "execution_count": 236,
      "outputs": [
        {
          "output_type": "execute_result",
          "data": {
            "text/plain": [
              "LinearRegression(copy_X=True, fit_intercept=True, n_jobs=None, normalize=False)"
            ]
          },
          "metadata": {
            "tags": []
          },
          "execution_count": 236
        }
      ]
    },
    {
      "cell_type": "markdown",
      "metadata": {
        "id": "H9VYwKNAuK3u"
      },
      "source": [
        "test score"
      ]
    },
    {
      "cell_type": "code",
      "metadata": {
        "colab": {
          "base_uri": "https://localhost:8080/"
        },
        "id": "UscSmV5Kt074",
        "outputId": "6816b531-5e07-4b85-f795-0f546ff9520c"
      },
      "source": [
        "Ln.score(Xtest,Ytest)"
      ],
      "execution_count": 237,
      "outputs": [
        {
          "output_type": "execute_result",
          "data": {
            "text/plain": [
              "0.7907905152115354"
            ]
          },
          "metadata": {
            "tags": []
          },
          "execution_count": 237
        }
      ]
    },
    {
      "cell_type": "markdown",
      "metadata": {
        "id": "71uarJqeuN58"
      },
      "source": [
        "train score"
      ]
    },
    {
      "cell_type": "code",
      "metadata": {
        "colab": {
          "base_uri": "https://localhost:8080/"
        },
        "id": "28EGYvj2t4TG",
        "outputId": "d5ed196b-67dc-4a84-86b5-1c645522f325"
      },
      "source": [
        "Ln.score(Xtrain,Ytrain)"
      ],
      "execution_count": 238,
      "outputs": [
        {
          "output_type": "execute_result",
          "data": {
            "text/plain": [
              "0.7710800254567446"
            ]
          },
          "metadata": {
            "tags": []
          },
          "execution_count": 238
        }
      ]
    },
    {
      "cell_type": "code",
      "metadata": {
        "id": "XTMx5H_cudTB"
      },
      "source": [
        "Pred_Ln=Ln.predict(Xtest)"
      ],
      "execution_count": 239,
      "outputs": []
    },
    {
      "cell_type": "markdown",
      "metadata": {
        "id": "kYwje-03uViK"
      },
      "source": [
        "Model Evaluation"
      ]
    },
    {
      "cell_type": "markdown",
      "metadata": {
        "id": "XXGhDLN5wwWC"
      },
      "source": [
        "RMSE"
      ]
    },
    {
      "cell_type": "code",
      "metadata": {
        "colab": {
          "base_uri": "https://localhost:8080/"
        },
        "id": "uNsU175WumKk",
        "outputId": "2bbcedb0-38f8-445e-f196-517aeaae770e"
      },
      "source": [
        "Rmse = (np.sqrt(mean_squared_error(Ytest, Pred_Ln)))\n",
        "print(Rmse)"
      ],
      "execution_count": 240,
      "outputs": [
        {
          "output_type": "stream",
          "text": [
            "4113.770512928723\n"
          ],
          "name": "stdout"
        }
      ]
    },
    {
      "cell_type": "markdown",
      "metadata": {
        "id": "GmpIGHrMunhF"
      },
      "source": [
        "MSE"
      ]
    },
    {
      "cell_type": "code",
      "metadata": {
        "colab": {
          "base_uri": "https://localhost:8080/"
        },
        "id": "oIAmn4Tjuoyr",
        "outputId": "11fcf680-50c5-448e-96ea-92e6fc6a641d"
      },
      "source": [
        "metrics.mean_squared_error(Ytest,Pred_Ln)"
      ],
      "execution_count": 241,
      "outputs": [
        {
          "output_type": "execute_result",
          "data": {
            "text/plain": [
              "16923107.83304185"
            ]
          },
          "metadata": {
            "tags": []
          },
          "execution_count": 241
        }
      ]
    },
    {
      "cell_type": "markdown",
      "metadata": {
        "id": "szhusp31uqHO"
      },
      "source": [
        "MEAN ABSOLUTE ERROR"
      ]
    },
    {
      "cell_type": "code",
      "metadata": {
        "colab": {
          "base_uri": "https://localhost:8080/"
        },
        "id": "qvasLh96urlp",
        "outputId": "557137ad-a7ca-4ecf-cb18-89892f1eba88"
      },
      "source": [
        "metrics.mean_absolute_error(Ytest,Pred_Ln)"
      ],
      "execution_count": 242,
      "outputs": [
        {
          "output_type": "execute_result",
          "data": {
            "text/plain": [
              "1614.713577502536"
            ]
          },
          "metadata": {
            "tags": []
          },
          "execution_count": 242
        }
      ]
    },
    {
      "cell_type": "markdown",
      "metadata": {
        "id": "kwJ7Qjg0ut_k"
      },
      "source": [
        "SCATTER PLOT FOR PEDICTED VALUE V/S ACTUAL"
      ]
    },
    {
      "cell_type": "code",
      "metadata": {
        "colab": {
          "base_uri": "https://localhost:8080/",
          "height": 282
        },
        "id": "JyHyN22buvLa",
        "outputId": "61e123b3-3597-4fc4-b3b3-84c35cb70495"
      },
      "source": [
        "import matplotlib.pyplot as plt \n",
        "plt.scatter(Ytest,Pred_Ln)"
      ],
      "execution_count": 243,
      "outputs": [
        {
          "output_type": "execute_result",
          "data": {
            "text/plain": [
              "<matplotlib.collections.PathCollection at 0x7fcac825e290>"
            ]
          },
          "metadata": {
            "tags": []
          },
          "execution_count": 243
        },
        {
          "output_type": "display_data",
          "data": {
            "image/png": "[encoded data removed]",
            "text/plain": [
              "<Figure size 432x288 with 1 Axes>"
            ]
          },
          "metadata": {
            "tags": [],
            "needs_background": "light"
          }
        }
      ]
    },
    {
      "cell_type": "markdown",
      "metadata": {
        "id": "nUbLMxM_v25a"
      },
      "source": [
        "Here I have build 10 different models using various algorithms. And I found that Model 3 is giving the best scores 91%(test) and 98%(train). Therefor am finalizing my best model as RandomizedSearchCv with RandomForest Regressor(Model3)."
      ]
    }
  ]
}